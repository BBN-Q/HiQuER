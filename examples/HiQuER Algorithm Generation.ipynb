{
 "cells": [
  {
   "cell_type": "markdown",
   "id": "2fc5acc3",
   "metadata": {},
   "source": [
    "## HiQuER Algorithm Generation"
   ]
  },
  {
   "cell_type": "code",
   "execution_count": 17,
   "id": "ad943a58",
   "metadata": {},
   "outputs": [
    {
     "name": "stderr",
     "output_type": "stream",
     "text": [
      "\u001b[32m\u001b[1m  Activating\u001b[22m\u001b[39m project at `~/GitHub/HiQuER`\n"
     ]
    }
   ],
   "source": [
    "using Pkg\n",
    "Pkg.activate(\"/home/gribeill/GitHub/HiQuER/\")\n",
    "using HiQuER"
   ]
  },
  {
   "cell_type": "markdown",
   "id": "39bf36be",
   "metadata": {},
   "source": [
    "### Generating problem Hamiltonian\n",
    "\n",
    "Let's generate a Hamiltonian for the Vlasov equation for 4 qubits (4-mode Hermite expansion), using parameters $\\alpha$ = 0.6 and $k$ = 2.0"
   ]
  },
  {
   "cell_type": "code",
   "execution_count": 18,
   "id": "d2fcb173-2f4a-43a7-a294-95c25ad19069",
   "metadata": {},
   "outputs": [],
   "source": [
    "using Revise"
   ]
  },
  {
   "cell_type": "code",
   "execution_count": 19,
   "id": "9355351f",
   "metadata": {},
   "outputs": [],
   "source": [
    "N = 4\n",
    "k = 2\n",
    "α = 0.6\n",
    "Tmax = 1.0; #maximum simulation time"
   ]
  },
  {
   "cell_type": "markdown",
   "id": "af3330cc",
   "metadata": {},
   "source": [
    "First, generate the Pauli string representation of the Hamiltonian"
   ]
  },
  {
   "cell_type": "code",
   "execution_count": 20,
   "id": "210b5cc4",
   "metadata": {},
   "outputs": [
    {
     "data": {
      "text/plain": [
       "Dict{QuantumClifford.PauliOperator, Float64} with 6 entries:\n",
       "  + __YY => 1.22474\n",
       "  + XX__ => 0.894427\n",
       "  + YY__ => 0.894427\n",
       "  + __XX => 1.22474\n",
       "  + _XX_ => 1.0\n",
       "  + _YY_ => 1.0"
      ]
     },
     "execution_count": 20,
     "metadata": {},
     "output_type": "execute_result"
    }
   ],
   "source": [
    "pauli_strings = Vlasov_Hamiltonian_Paulis(N, k, α)"
   ]
  },
  {
   "cell_type": "markdown",
   "id": "f62a202c",
   "metadata": {},
   "source": [
    "Next we implement the 4th order Trotter-Suzuki formula and convert to OpenQASM, and save to a file"
   ]
  },
  {
   "cell_type": "code",
   "execution_count": 21,
   "id": "f6e33e40-8696-4bda-98d6-832ae2a7bf72",
   "metadata": {},
   "outputs": [
    {
     "data": {
      "text/plain": [
       "6"
      ]
     },
     "execution_count": 21,
     "metadata": {},
     "output_type": "execute_result"
    }
   ],
   "source": [
    "length(pauli_strings)"
   ]
  },
  {
   "cell_type": "code",
   "execution_count": 24,
   "id": "013cfedd",
   "metadata": {},
   "outputs": [
    {
     "data": {
      "text/plain": [
       "2823"
      ]
     },
     "execution_count": 24,
     "metadata": {},
     "output_type": "execute_result"
    }
   ],
   "source": [
    "circuit = Suzuki_Trotter_circuits_4thorder(pauli_strings, N, Tmax) |> to_qasm;\n",
    "\n",
    "open(\"./test/plasma4.qasm\", \"w\") do io\n",
    "    write(io, string(circuit))\n",
    "end"
   ]
  },
  {
   "cell_type": "code",
   "execution_count": null,
   "id": "8ff24599-7b6e-4d5c-bbd4-0a88951cdb04",
   "metadata": {},
   "outputs": [],
   "source": []
  }
 ],
 "metadata": {
  "kernelspec": {
   "display_name": "Julia 1.8.2",
   "language": "julia",
   "name": "julia-1.8"
  },
  "language_info": {
   "file_extension": ".jl",
   "mimetype": "application/julia",
   "name": "julia",
   "version": "1.8.2"
  }
 },
 "nbformat": 4,
 "nbformat_minor": 5
}
