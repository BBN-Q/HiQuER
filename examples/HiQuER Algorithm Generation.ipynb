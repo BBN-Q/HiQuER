{
 "cells": [
  {
   "cell_type": "markdown",
   "id": "dae4a8b2",
   "metadata": {},
   "source": [
    "## HiQuER Algorithm Generation"
   ]
  },
  {
   "cell_type": "code",
   "execution_count": 1,
   "id": "f454b9bd",
   "metadata": {},
   "outputs": [
    {
     "name": "stderr",
     "output_type": "stream",
     "text": [
      "\u001b[32m\u001b[1m  Activating\u001b[22m\u001b[39m project at `~/GitHub/HiQuER`\n",
      "┌ Info: Precompiling HiQuER [4b5eb2ad-d69c-411d-be4a-18f852c96210]\n",
      "└ @ Base loading.jl:1664\n",
      "WARNING: method definition for ControlledGate at /home/gribeill/GitHub/HiQuER/src/circuits/gate_types.jl:124 declares type variable T but does not use it.\n"
     ]
    }
   ],
   "source": [
    "using Pkg\n",
    "Pkg.activate(\"/home/gribeill/GitHub/HiQuER/\")\n",
    "using HiQuER"
   ]
  },
  {
   "cell_type": "markdown",
   "id": "e0c50a21",
   "metadata": {},
   "source": [
    "### Generating problem Hamiltonian\n",
    "\n",
    "Let's generate a Hamiltonian for the Vlasov equation for 4 qubits (4-mode Hermite expansion), using parameters $\\alpha$ = 0.6 and $k$ = 2.0"
   ]
  },
  {
   "cell_type": "code",
   "execution_count": 7,
   "id": "8627cf1d",
   "metadata": {},
   "outputs": [],
   "source": [
    "N = 8\n",
    "k = 2\n",
    "α = 0.6\n",
    "Tmax = 1.0; #maximum simulation time"
   ]
  },
  {
   "cell_type": "markdown",
   "id": "d8641b8a",
   "metadata": {},
   "source": [
    "First, generate the Pauli string representation of the Hamiltonian"
   ]
  },
  {
   "cell_type": "code",
   "execution_count": 8,
   "id": "f67e1a6f",
   "metadata": {},
   "outputs": [
    {
     "data": {
      "text/plain": [
       "Dict{QuantumClifford.PauliOperator, Float64} with 14 entries:\n",
       "  + __YY____ => 1.22474\n",
       "  + ____YY__ => 1.58114\n",
       "  + YY______ => 0.894427\n",
       "  + __XX____ => 1.22474\n",
       "  + _YY_____ => 1.0\n",
       "  + XX______ => 0.894427\n",
       "  + ______XX => 1.87083\n",
       "  + _____XX_ => 1.73205\n",
       "  + _____YY_ => 1.73205\n",
       "  + ____XX__ => 1.58114\n",
       "  + ___XX___ => 1.41421\n",
       "  + ___YY___ => 1.41421\n",
       "  + ______YY => 1.87083\n",
       "  + _XX_____ => 1.0"
      ]
     },
     "execution_count": 8,
     "metadata": {},
     "output_type": "execute_result"
    }
   ],
   "source": [
    "pauli_strings = Vlasov_Hamiltonian_Paulis(N, k, α)"
   ]
  },
  {
   "cell_type": "markdown",
   "id": "8a788fbc",
   "metadata": {},
   "source": [
    "Next we implement the 4th order Trotter-Suzuki formula and convert to OpenQASM, and save to a file"
   ]
  },
  {
   "cell_type": "code",
   "execution_count": 17,
   "id": "6c40a5de",
   "metadata": {},
   "outputs": [
    {
     "data": {
      "text/plain": [
       "6668"
      ]
     },
     "execution_count": 17,
     "metadata": {},
     "output_type": "execute_result"
    }
   ],
   "source": [
    "circuit = Suzuki_Trotter_circuits_4thorder(pauli_strings, N, Tmax) |> to_qasm;\n",
    "\n",
    "open(\"./qasm/plasma.qasm\", \"w\") do io\n",
    "    write(io, string(circuit))\n",
    "end"
   ]
  }
 ],
 "metadata": {
  "kernelspec": {
   "display_name": "Julia 1.8.2",
   "language": "julia",
   "name": "julia-1.8"
  },
  "language_info": {
   "file_extension": ".jl",
   "mimetype": "application/julia",
   "name": "julia",
   "version": "1.8.2"
  }
 },
 "nbformat": 4,
 "nbformat_minor": 5
}
