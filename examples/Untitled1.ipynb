{
 "cells": [
  {
   "cell_type": "code",
   "execution_count": 18,
   "id": "b360d46c-b10d-48bb-b6d4-91d73d0039d4",
   "metadata": {},
   "outputs": [],
   "source": [
    "import cirq\n",
    "from pyLIQTR.gate_decomp.cirq_transforms import *\n",
    "import numpy as np"
   ]
  },
  {
   "cell_type": "code",
   "execution_count": 13,
   "id": "298ef629-f104-4555-b3ec-1468f05ebb7d",
   "metadata": {},
   "outputs": [],
   "source": [
    "q0 = cirq.LineQubit(2)"
   ]
  },
  {
   "cell_type": "code",
   "execution_count": 3,
   "id": "e9bebb4e-3746-46d1-83af-4798d302f388",
   "metadata": {},
   "outputs": [
    {
     "ename": "SyntaxError",
     "evalue": "incomplete input (4055767764.py, line 1)",
     "output_type": "error",
     "traceback": [
      "\u001b[0;36m  Cell \u001b[0;32mIn [3], line 1\u001b[0;36m\u001b[0m\n\u001b[0;31m    q[1\u001b[0m\n\u001b[0m       ^\u001b[0m\n\u001b[0;31mSyntaxError\u001b[0m\u001b[0;31m:\u001b[0m incomplete input\n"
     ]
    }
   ],
   "source": [
    "q[1"
   ]
  },
  {
   "cell_type": "code",
   "execution_count": 23,
   "id": "dbe38776-81e2-4241-b712-74935cb76ec9",
   "metadata": {},
   "outputs": [
    {
     "name": "stdout",
     "output_type": "stream",
     "text": [
      "19.4 ms ± 1.41 ms per loop (mean ± std. dev. of 7 runs, 10 loops each)\n"
     ]
    }
   ],
   "source": [
    "%timeit decompose_diagonal_cirq(Decimal(np.pi/32815 + 1.0), 10, q0)"
   ]
  },
  {
   "cell_type": "code",
   "execution_count": null,
   "id": "53799010-d510-4ccf-b6c3-69c705208e07",
   "metadata": {},
   "outputs": [],
   "source": [
    "from pyLIQTR.gate_decomp.cirq_transforms import *\n"
   ]
  }
 ],
 "metadata": {
  "kernelspec": {
   "display_name": "Python 3 (ipykernel)",
   "language": "python",
   "name": "python3"
  },
  "language_info": {
   "codemirror_mode": {
    "name": "ipython",
    "version": 3
   },
   "file_extension": ".py",
   "mimetype": "text/x-python",
   "name": "python",
   "nbconvert_exporter": "python",
   "pygments_lexer": "ipython3",
   "version": "3.10.6"
  }
 },
 "nbformat": 4,
 "nbformat_minor": 5
}
