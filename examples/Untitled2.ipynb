{
 "cells": [
  {
   "cell_type": "code",
   "execution_count": 1,
   "id": "9cd9eebd-7d5a-482d-a339-ad6845d820b5",
   "metadata": {},
   "outputs": [
    {
     "name": "stderr",
     "output_type": "stream",
     "text": [
      "\u001b[32m\u001b[1m  Activating\u001b[22m\u001b[39m project at `~/GitHub/HiQuER`\n",
      "┌ Info: Precompiling HiQuER [4b5eb2ad-d69c-411d-be4a-18f852c96210]\n",
      "└ @ Base loading.jl:1664\n"
     ]
    }
   ],
   "source": [
    "using Pkg\n",
    "Pkg.activate(\"/home/gribeill/GitHub/HiQuER/\")\n",
    "using HiQuER\n",
    "using LRUCache\n",
    "using BenchmarkTools\n",
    "using OpenQASM\n",
    "using JSON\n",
    "using QuantumClifford\n",
    "using Match"
   ]
  },
  {
   "cell_type": "code",
   "execution_count": 4,
   "id": "6e8990a4-1762-489b-9f99-e1326b1d090f",
   "metadata": {},
   "outputs": [
    {
     "data": {
      "text/plain": [
       "@bash_str (macro with 1 method)"
      ]
     },
     "execution_count": 4,
     "metadata": {},
     "output_type": "execute_result"
    }
   ],
   "source": [
    "macro bash_str(s) open(`bash`,\"w\",stdout) do io; print(io, s); end; end"
   ]
  },
  {
   "cell_type": "code",
   "execution_count": 49,
   "id": "31eacdce-c299-42a2-9a86-8dad5f4faec7",
   "metadata": {},
   "outputs": [
    {
     "name": "stdout",
     "output_type": "stream",
     "text": [
      "Resources used:\n",
      "  rz(-0.00134692): 2\n",
      "  rz(-0.00099068): 2\n",
      "  rz(-0.00115687): 2\n",
      "  rz(-0.00130201): 2\n",
      "  rz(-0.000344911): 2\n",
      "  rz(-0.000689821): 2\n",
      "  rz(-0.00124359): 4\n",
      "  rz(-0.000487777): 2\n",
      "  rz(-0.000597403): 2\n",
      "  rz(-0.00133583): 4\n",
      "  rz(-0.00113086): 2\n",
      "  rz(-0.000844855): 2\n",
      "  rz(-0.00119481): 4\n",
      "  rz(-0.00102026): 2\n",
      "  rz(-0.00132465): 2\n",
      "  rz(-0.00107698): 2\n",
      "  rz(-0.00114394): 4\n",
      "  rz(-0.00150343): 2\n",
      "  rz(-0.00158058): 2\n",
      "  rz(-0.00154249): 2\n",
      "  rz(-0.00161777): 2\n",
      "  rz(-0.00165413): 2\n",
      "  rz(-0.00175871): 2\n",
      "  rz(-0.0018574): 2\n",
      "  rz(-0.0014221): 2\n",
      "  rz(-0.00179221): 2\n",
      "  rz(-0.00037483): 2\n",
      "  rz(-0.0018251): 2\n",
      "  rz(-0.000430457): 2\n",
      "  rz(-0.000462385): 2\n",
      "  rz(-0.00118229): 2\n",
      "  rz(-0.000453493): 2\n",
      "  rz(-0.000983146): 2\n",
      "  rz(-0.000483903): 2\n",
      "  rz(-0.000369358): 2\n",
      "  rz(-0.000416025): 2\n",
      "  rz(-0.000308497): 2\n",
      "  rz(-0.000422427): 2\n",
      "  rz(-0.00135791): 4\n",
      "  rz(-0.000731666): 2\n",
      "  rz(-0.00192038): 2\n",
      "  rz(-0.00121944): 4\n",
      "  rz(-0.000488093): 2\n",
      "  rz(-0.000545351): 2\n",
      "  rz(-0.00131338): 4\n",
      "  rz(-0.00116965): 4\n",
      "  rz(-0.00106309): 4\n",
      "  rz(-0.00120101): 2\n",
      "  rz(-0.00123158): 2\n",
      "  rz(-0.00129629): 2\n",
      "  rz(-0.00100558): 4\n",
      "  rz(-0.00133026): 2\n",
      "  rz(0.00106445): 2\n",
      "  rz(0.000720636): 4\n",
      "  rz(0.000895869): 2\n",
      "  rz(0.00107548): 2\n",
      "  qubits: 128\n",
      "  rz(0.000921841): 2\n",
      "  rz(-0.00103473): 4\n",
      "  rz(0.000194341): 2\n",
      "  rz(0.000841522): 4\n",
      "  rz(0.000633475): 4\n",
      "  rz(0.000406494): 2\n",
      "  rz(-0.000466768): 2\n",
      "  rz(0.000595046): 2\n",
      "  rz(0.00075268): 4\n",
      "  rz(0.00121948): 2\n",
      "  rz(0.000669702): 4\n",
      "  rz(0.000647298): 2\n",
      "  rz(0.000619343): 2\n",
      "  rz(0.00037634): 2\n",
      "  rz(0.00101913): 2\n",
      "  rz(0.00074875): 2\n",
      "  rz(-0.000390787): 2\n",
      "  rz(0.000865718): 2\n",
      "  rz(-0.00172455): 2\n",
      "  rz(-0.00146333): 2\n",
      "  rz(-0.00127314): 2\n",
      "  rz(-0.000808887): 2\n",
      "  rz(0.000728779): 2\n",
      "  rz(-0.00180873): 2\n",
      "  rz(0.00136882): 2\n",
      "  rz(-0.000411101): 2\n",
      "  rz(0.000858875): 2\n",
      "  rz(0.000959483): 2\n",
      "  rz(-0.00127896): 2\n",
      "  rz(0.000779639): 2\n",
      "  rz(0.000642723): 2\n",
      "  rz(-0.00120719): 2\n",
      "  rz(-0.00144286): 2\n",
      "  rz(0.00118013): 2\n",
      "  rz(0.00021728): 2\n",
      "  rz(0.00034355): 2\n",
      "  h: 2054\n",
      "  rz(0.000995702): 2\n",
      "  rz(-0.00170722): 2\n",
      "  depth: 208\n",
      "  rz(0.00109721): 2\n",
      "  rz(0.00100749): 2\n",
      "  rz(-0.000975554): 4\n",
      "  rz(0.000740826): 2\n",
      "  rz(-0.000406118): 2\n",
      "  rz(0.0007124): 2\n",
      "  rz(-0.00193581): 2\n",
      "  rz(-0.00159928): 2\n",
      "  cx: 2868\n",
      "  rz(0.000845021): 2\n",
      "  rz(0.000820214): 2\n",
      "  rz(0.00115996): 2\n",
      "  rz(0.000768201): 4\n",
      "  rz(0.00113943): 2\n",
      "  rz(-0.001049): 2\n",
      "  rz(-0.000385541): 2\n",
      "  rz(-0.000879353): 2\n",
      "  rz(0.000736832): 4\n",
      "  rz(0.00112902): 2\n",
      "  rz(0.00065184): 4\n",
      "  rz(0.00103065): 2\n",
      "  rz(-0.00174171): 2\n",
      "  rz(0.000674094): 2\n",
      "  rz(-0.00111764): 4\n",
      "  rz(0.000882596): 2\n",
      "  rz(0.000855432): 4\n",
      "  rz(0.000682792): 2\n",
      "  rz(0.000802025): 2\n",
      "  rz(-0.00126728): 4\n",
      "  rz(0.0010864): 2\n",
      "  rz(0.00071653): 2\n",
      "  rz(0.0010533): 2\n",
      "  rz(-0.00118857): 2\n",
      "  rz(0.000724719): 2\n",
      "  s: 2046\n",
      "  rz(-0.00136338): 2\n",
      "  rz(-0.00129054): 4\n",
      "  rz(0.00104204): 2\n",
      "  rz(0.0006871): 4\n",
      "  rz(-0.00110425): 2\n",
      "  rz(-0.000645269): 2\n",
      "  rz(0.000848506): 2\n",
      "  rz(-0.00168971): 2\n",
      "  rz(-0.00108386): 2\n",
      "  rz(-0.00125549): 2\n",
      "  rz(0.000553958): 2\n",
      "  rz(0.00110792): 2\n",
      "  rz(0.00080935): 2\n",
      "  rz(0.000532225): 2\n",
      "  rz(-0.000944576): 2\n",
      "  rz(0.000971706): 2\n",
      "  rz(0.00117009): 2\n",
      "  rz(0.00114974): 2\n",
      "  rz(0.00119997): 2\n",
      "  rz(0.000947102): 2\n",
      "  rz(0.00086912): 2\n",
      "  rz(-0.000771243): 2\n",
      "  rz(-0.00152308): 2\n",
      "  rz(0.00120976): 2\n",
      "  rz(-0.00187334): 2\n",
      "  rz(0.000614561): 4\n",
      "  rz(0.000266113): 2\n",
      "  rz(0.000775845): 2\n",
      "  rz(-0.00188915): 2\n",
      "  rz(0.000678457): 2\n",
      "  rz(0.00076048): 2\n",
      "  rz(0.00111852): 2\n",
      "  rz(-0.00177554): 2\n",
      "  rz(-0.00137964): 2\n",
      "  rz(-0.00167202): 2\n",
      "  rz(0.00083448): 2\n",
      "  rz(0.000812987): 4\n",
      "  rz(0.000934557): 2\n",
      "  rz(0.000744798): 2\n",
      "  rz(0.000574869): 2\n",
      "  rz(-0.000500452): 2\n",
      "  rz(-0.00117599): 2\n",
      "  rz(0.000460921): 2\n",
      "  rz(-0.000862303): 2\n",
      "  rz(0.000485853): 2\n",
      "  rz(0.000783414): 4\n",
      "  rz(-0.00044898): 2\n",
      "  rz(0.000805696): 2\n",
      "  rz(0.00043456): 2\n",
      "  rz(0.000838008): 2\n",
      "  rz(0.000624089): 2\n",
      "  rz(0.00030728): 2\n",
      "  rz(0.000660831): 2\n",
      "  rz(0.000983777): 2\n",
      "  rz(0.000790911): 2\n",
      "  rz(-0.0010907): 4\n",
      "  rz(-0.00137424): 2\n",
      "  rz(-0.00140103): 2\n",
      "  rz(0.000827378): 4\n",
      "  rz(-0.00148352): 2\n",
      "  rz(0.000816609): 2\n",
      "  rz(-0.00156165): 2\n",
      "  rz(-0.00163605): 2\n",
      "  rz(0.000695636): 2\n",
      "  rz(-0.00184132): 2\n",
      "  rz(0.000908948): 2\n",
      "  rz(-0.00134139): 2\n",
      "  rz(0.00075659): 2\n",
      "  rz(0.000509567): 2\n",
      "  rz(-0.00190483): 2\n",
      "  rz(-0.0012376): 2\n",
      "  rz(-0.00128476): 2\n",
      "  rz(-0.000912548): 2\n",
      "  rz(0.00119009): 2\n",
      "  rz(-0.00102752): 2\n",
      "  rz(0.000798338): 4\n",
      "  rz(-0.00115042): 2\n",
      "  rz(0.000704068): 4\n",
      "  rz(-0.00113742): 2\n",
      "  rz(-0.00107006): 2\n"
     ]
    }
   ],
   "source": [
    "bash\"\"\"\n",
    "staq -O2 test/plasma128.qasm | tee test/plasma4_opt.qasm | staq_resource_estimator\n",
    "\"\"\"\n"
   ]
  },
  {
   "cell_type": "code",
   "execution_count": 50,
   "id": "527ef482-37bc-4a91-a08f-430eb21bd8cd",
   "metadata": {},
   "outputs": [
    {
     "name": "stdout",
     "output_type": "stream",
     "text": [
      "Resources used:\n",
      "  depth: 7464\n",
      "  x: 55\n",
      "  y: 83\n",
      "  s: 24114\n",
      "  t: 43496\n",
      "  cx: 2868\n",
      "  h: 45498\n",
      "  z: 159\n",
      "  qubits: 128\n"
     ]
    }
   ],
   "source": [
    "bash\"\"\"\n",
    "cat test/plasma4_opt.qasm | python3 ../util/rotation_synth/rotation_synth.py | \\\n",
    "tee test/plasma4_full_CT.qasm | staq_resource_estimator\n",
    "\"\"\""
   ]
  },
  {
   "cell_type": "code",
   "execution_count": 48,
   "id": "55867883-7bae-4880-b8b1-3ff454a1aacc",
   "metadata": {},
   "outputs": [
    {
     "name": "stderr",
     "output_type": "stream",
     "text": [
      "Warning: Circuit is not in Clifford + T\n"
     ]
    }
   ],
   "source": [
    "bash\"\"\"\n",
    "cat test/plasma4_full_CT.qasm | staq_lattice_surgery > test/plasma4_full_LS.json\n",
    "\"\"\""
   ]
  },
  {
   "cell_type": "code",
   "execution_count": null,
   "id": "9a469ca6-50ac-496d-9649-9ea7f08ba021",
   "metadata": {},
   "outputs": [],
   "source": []
  },
  {
   "cell_type": "code",
   "execution_count": 28,
   "id": "c7e15a98-f48a-44f8-959a-012ac0e813d1",
   "metadata": {},
   "outputs": [
    {
     "ename": "LoadError",
     "evalue": "LoadError: failed process: Process(`\u001b[4mbash\u001b[24m`, ProcessSignaled(2)) [0]\n\nin expression starting at In[28]:1",
     "output_type": "error",
     "traceback": [
      "LoadError: failed process: Process(`\u001b[4mbash\u001b[24m`, ProcessSignaled(2)) [0]\n\nin expression starting at In[28]:1",
      "",
      "Stacktrace:",
      " [1] pipeline_error",
      "   @ ./process.jl:565 [inlined]",
      " [2] open(::var\"#1#2\"{String}, ::Cmd, ::String, ::Vararg{Any}; kwargs::Base.Pairs{Symbol, Union{}, Tuple{}, NamedTuple{(), Tuple{}}})",
      "   @ Base ./process.jl:437",
      " [3] open(::Function, ::Cmd, ::String, ::IJulia.IJuliaStdio{Base.PipeEndpoint})",
      "   @ Base ./process.jl:414",
      " [4] var\"@bash_str\"(__source__::LineNumberNode, __module__::Module, s::Any)",
      "   @ Main ./In[4]:1",
      " [5] eval",
      "   @ ./boot.jl:368 [inlined]",
      " [6] include_string(mapexpr::typeof(REPL.softscope), mod::Module, code::String, filename::String)",
      "   @ Base ./loading.jl:1428"
     ]
    }
   ],
   "source": [
    "bash\"\"\"\n",
    "cat test/plasma4_opt.qasm | staq_lattice_surgery > test/plasma4_nonCT.json\n",
    "\"\"\""
   ]
  },
  {
   "cell_type": "code",
   "execution_count": 9,
   "id": "1180bdec-b97f-4fa8-8aee-feda02039114",
   "metadata": {},
   "outputs": [
    {
     "data": {
      "text/plain": [
       "Dict{String, Any} with 3 entries:\n",
       "  \"2. Circuit after the Li… => Dict{String, Any}(\"layers\"=>Any[Dict{String, Any…\n",
       "  \"1. Circuit as Pauli rot… => Dict{String, Any}(\"layers\"=>Any[Dict{String, Any…\n",
       "  \"3. Circuit after T dept… => nothing"
      ]
     },
     "execution_count": 9,
     "metadata": {},
     "output_type": "execute_result"
    }
   ],
   "source": [
    "json = JSON.parsefile(\"./test/plasma4_nonCT.json\")"
   ]
  },
  {
   "cell_type": "code",
   "execution_count": 10,
   "id": "2caaca5b-9ec3-420a-a697-e29efa12ece3",
   "metadata": {},
   "outputs": [
    {
     "data": {
      "text/plain": [
       "10-element Vector{Any}:\n",
       " Dict{String, Any}(\"q1\" => \"X\", \"q0\" => \"X\", \"pi*\" => \"-0.006775\", \"q2\" => \"X\", \"q3\" => \"X\")\n",
       " Dict{String, Any}(\"q1\" => \"Z\", \"q0\" => \"Z\", \"pi*\" => \"-0.003787\", \"q2\" => \"Z\")\n",
       " Dict{String, Any}(\"q1\" => \"Z\", \"q0\" => \"Z\", \"pi*\" => \"0.002725\", \"q2\" => \"Z\", \"q3\" => \"Z\")\n",
       " Dict{String, Any}(\"q1\" => \"X\", \"q0\" => \"X\", \"pi*\" => \"0.010754\", \"q2\" => \"X\", \"q3\" => \"X\")\n",
       " Dict{String, Any}(\"q1\" => \"Z\", \"q0\" => \"Z\", \"pi*\" => \"0.006012\", \"q2\" => \"Z\")\n",
       " Dict{String, Any}(\"q1\" => \"X\", \"q0\" => \"X\", \"pi*\" => \"0.010754\", \"q2\" => \"X\", \"q3\" => \"X\")\n",
       " Dict{String, Any}(\"q1\" => \"Z\", \"q0\" => \"Z\", \"pi*\" => \"-0.006012\", \"q2\" => \"Z\")\n",
       " Dict{String, Any}(\"q1\" => \"Z\", \"q0\" => \"Z\", \"pi*\" => \"0.002725\", \"q2\" => \"Z\", \"q3\" => \"Z\")\n",
       " Dict{String, Any}(\"q1\" => \"X\", \"q0\" => \"X\", \"pi*\" => \"-0.006775\", \"q2\" => \"X\", \"q3\" => \"X\")\n",
       " Dict{String, Any}(\"q1\" => \"Z\", \"q0\" => \"Z\", \"pi*\" => \"0.003787\", \"q2\" => \"Z\")"
      ]
     },
     "execution_count": 10,
     "metadata": {},
     "output_type": "execute_result"
    }
   ],
   "source": [
    "lyrs = json[\"2. Circuit after the Litinski Transform\"][\"layers\"];\n",
    "\n",
    "lyrsT = filter(x -> !(x[\"pi*\"] in (\"1/4\", \"-1/4\")), lyrs) "
   ]
  },
  {
   "cell_type": "code",
   "execution_count": 11,
   "id": "c44bce5c-71ff-4c26-8476-75453fbe0499",
   "metadata": {},
   "outputs": [
    {
     "data": {
      "text/plain": [
       "topaulistrings (generic function with 1 method)"
      ]
     },
     "execution_count": 11,
     "metadata": {},
     "output_type": "execute_result"
    }
   ],
   "source": [
    "function topaulistrings(lyrs)\n",
    "    ps = []\n",
    "    ang = Vector{Float64}()\n",
    "    for ly in lyrs\n",
    "        ops_x = zeros(Bool, 3)\n",
    "        ops_z = zeros(Bool, 3)\n",
    "        for j=1:3\n",
    "            if !(\"q$(j-1)\" in keys(ly))\n",
    "                ops_x[j] = false\n",
    "                ops_z[j] = false\n",
    "                continue\n",
    "            end\n",
    "            ops_x[j] = @match ly[\"q$(j-1)\"] begin\n",
    "                \"X\" => true\n",
    "                \"Y\" => true\n",
    "                \"Z\" => false\n",
    "            end\n",
    "            ops_z[j] = @match ly[\"q$(j-1)\"] begin\n",
    "                \"X\" => false\n",
    "                \"Y\" => true\n",
    "                \"Z\" => true\n",
    "            end\n",
    "        end\n",
    "        pop = PauliOperator(ops_x, ops_z)\n",
    "        println(pop)\n",
    "        push!(ps, pop)\n",
    "        push!(ang, parse(Float64, ly[\"pi*\"]) * pi)\n",
    "    end\n",
    "    return Dict(ps => ang)\n",
    "end"
   ]
  },
  {
   "cell_type": "code",
   "execution_count": 12,
   "id": "d3c047e5-84f6-4869-aa5f-0a0f63475a70",
   "metadata": {},
   "outputs": [
    {
     "name": "stdout",
     "output_type": "stream",
     "text": [
      "+ XXX\n",
      "+ ZZZ\n",
      "+ ZZZ\n",
      "+ XXX\n",
      "+ ZZZ\n",
      "+ XXX\n",
      "+ ZZZ\n",
      "+ ZZZ\n",
      "+ XXX\n",
      "+ ZZZ\n"
     ]
    },
    {
     "data": {
      "text/plain": [
       "Dict{Vector{Any}, Vector{Float64}} with 1 entry:\n",
       "  [+ XXX, + ZZZ, + ZZZ, + … => [-0.0212843, -0.0118972, 0.00856084, 0.0337847, …"
      ]
     },
     "execution_count": 12,
     "metadata": {},
     "output_type": "execute_result"
    }
   ],
   "source": [
    "ps = topaulistrings(lyrsT)"
   ]
  },
  {
   "cell_type": "code",
   "execution_count": 15,
   "id": "88d52114-5700-4087-864c-4fa195283851",
   "metadata": {},
   "outputs": [
    {
     "data": {
      "text/plain": [
       "1: CNOT(1, 3)*H(2)\n",
       "2: S(1)*S(2)\n",
       "3: S(1)*S(2)\n",
       "4: H(1)*H(2)\n",
       "5: CNOT(2, 3)*Rz(0.021284290228070848)(1)\n",
       "6: Rz(-0.033784687396704635)(1)*Rz(0.011897211379144547)(3)\n",
       "7: Rz(-0.033784687396704635)(1)\n",
       "8: Rz(0.021284290228070848)(1)\n",
       "9: Rz(-0.008560839981032187)(3)\n",
       "10: Rz(-0.018887255033381838)(3)\n",
       "11: Rz(0.018887255033381838)(3)\n",
       "12: Rz(-0.008560839981032187)(3)\n",
       "13: Rz(-0.011897211379144547)(3)\n",
       "14: CNOT(2, 3)\n",
       "15: H(1)*H(2)\n",
       "16: S†(1)*S†(2)\n",
       "17: S†(1)*S†(2)\n",
       "18: CNOT(1, 3)*H(2)"
      ]
     },
     "execution_count": 15,
     "metadata": {},
     "output_type": "execute_result"
    }
   ],
   "source": [
    "circ = to_circuit(ps)"
   ]
  },
  {
   "cell_type": "code",
   "execution_count": 16,
   "id": "1ec1b384-135c-4a08-a1f4-4653bc5780b2",
   "metadata": {},
   "outputs": [
    {
     "data": {
      "text/plain": [
       "542"
      ]
     },
     "execution_count": 16,
     "metadata": {},
     "output_type": "execute_result"
    }
   ],
   "source": [
    "open(\"test/small.qasm\", \"w\") do io\n",
    "    write(io, string(to_qasm(circ)))\n",
    "end"
   ]
  },
  {
   "cell_type": "code",
   "execution_count": 20,
   "id": "32924e09-22fa-4f5d-9bb3-1e820d21403a",
   "metadata": {},
   "outputs": [
    {
     "name": "stdout",
     "output_type": "stream",
     "text": [
      "Resources used:\n",
      "  depth: 1067\n",
      "  s: 366\n",
      "  t: 704\n",
      "  h: 718\n",
      "  cx: 4\n",
      "  z: 5\n",
      "  qubits: 3\n"
     ]
    }
   ],
   "source": [
    "bash\"\"\"\n",
    "cat test/small.qasm | python3 ../util/rotation_synth/rotation_synth.py | \\\n",
    "tee test/small_CT.qasm | staq_resource_estimator\n",
    "\"\"\""
   ]
  },
  {
   "cell_type": "code",
   "execution_count": 22,
   "id": "c426c9dd-7d21-42c2-9f94-064cc8024f71",
   "metadata": {},
   "outputs": [
    {
     "name": "stdout",
     "output_type": "stream",
     "text": [
      "  0.000001 seconds\n"
     ]
    }
   ],
   "source": [
    "@time bash\"\"\"\n",
    "cat test/small_CT.qasm | staq_lattice_surgery > test/test_ct_opt.json\n",
    "\"\"\""
   ]
  },
  {
   "cell_type": "code",
   "execution_count": null,
   "id": "75bfd740-3b4e-4d77-9c30-106c40892659",
   "metadata": {},
   "outputs": [],
   "source": []
  }
 ],
 "metadata": {
  "kernelspec": {
   "display_name": "Julia 1.8.2",
   "language": "julia",
   "name": "julia-1.8"
  },
  "language_info": {
   "file_extension": ".jl",
   "mimetype": "application/julia",
   "name": "julia",
   "version": "1.8.2"
  }
 },
 "nbformat": 4,
 "nbformat_minor": 5
}
