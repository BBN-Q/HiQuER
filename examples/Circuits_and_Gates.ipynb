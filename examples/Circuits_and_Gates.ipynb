{
 "cells": [
  {
   "cell_type": "code",
   "execution_count": 1,
   "id": "344ed137",
   "metadata": {},
   "outputs": [],
   "source": [
    "using Pkg\n",
    "using Revise"
   ]
  },
  {
   "cell_type": "code",
   "execution_count": 2,
   "id": "097b8d69",
   "metadata": {},
   "outputs": [
    {
     "name": "stderr",
     "output_type": "stream",
     "text": [
      "\u001b[32m\u001b[1m  Activating\u001b[22m\u001b[39m project at `~/GitHub/HiQuER`\n"
     ]
    }
   ],
   "source": [
    "Pkg.activate(\"/home/gribeill/GitHub/HiQuER/\")"
   ]
  },
  {
   "cell_type": "code",
   "execution_count": 3,
   "id": "efb2394c",
   "metadata": {},
   "outputs": [
    {
     "name": "stderr",
     "output_type": "stream",
     "text": [
      "┌ Info: Precompiling HiQuER [4b5eb2ad-d69c-411d-be4a-18f852c96210]\n",
      "└ @ Base loading.jl:1423\n"
     ]
    }
   ],
   "source": [
    "using HiQuER\n",
    "using QuantumClifford"
   ]
  },
  {
   "cell_type": "markdown",
   "id": "a561d5d0",
   "metadata": {},
   "source": [
    "## Angles\n",
    "\n",
    "Angles are represented by types that subtype the `AbstractAngle` abstract type. Two are provided:\n",
    "\n",
    "- `Angle`, which stores the angle as a rational multiple of $\\pi$\n",
    "- `FloatAngle`, which stores the angle as a floating point multiplier of $\\pi$"
   ]
  },
  {
   "cell_type": "code",
   "execution_count": 4,
   "id": "b2e36d97",
   "metadata": {},
   "outputs": [
    {
     "data": {
      "text/plain": [
       "(9π/8, 0.45π, 0.5π)"
      ]
     },
     "execution_count": 4,
     "metadata": {},
     "output_type": "execute_result"
    }
   ],
   "source": [
    "Angle(3//2) - Angle(3//8), FloatAngle(0.34) + FloatAngle(0.11), 2*FloatAngle(1//4)"
   ]
  },
  {
   "cell_type": "code",
   "execution_count": 5,
   "id": "5ad1140d",
   "metadata": {},
   "outputs": [
    {
     "data": {
      "text/plain": [
       "true"
      ]
     },
     "execution_count": 5,
     "metadata": {},
     "output_type": "execute_result"
    }
   ],
   "source": [
    "Angle(1//2) ≈ FloatAngle(0.5)"
   ]
  },
  {
   "cell_type": "markdown",
   "id": "92f71dc4",
   "metadata": {},
   "source": [
    "## Gates\n",
    "\n",
    "Gates subtype the `AbstractGate` abstract type. Built-in types include:\n",
    "\n",
    "- `Gate`, which is a symbolic gate with no concrete implementation (but that can have standard operations such as adjoint applied to it.\n",
    "\n",
    "- `PauliGate`, which associates a Pauli operator {$\\sigma_x$, $\\sigma_y$, $\\sigma_z$} with an `Angle` value to represent single-qubit rotations around an axis of the Bloch sphere.\n",
    "\n",
    "- `ControlledGate`, which associates one or more Pauli operators as control operators and one Pauli as the target operator. For example, the standard CNOT gate is associated with $\\sigma_z$ as the control Pauli and $\\sigma_x$ as the target Pauli.\n",
    "\n",
    "- `Measure`, which indicates a measurement in the basis of a given Pauli operator\n",
    "\n",
    "<font color='red'>TODOs:</font>\n",
    "\n",
    "- Check that the above Pauli operators are single-qubit operators for single-qubit gates, and collapse the vector of Pauli operator for the ControlledGate control into a single multi-qubit Pauli\n",
    "\n",
    "- How do we represent these as unitary matrices? Don't want to carry around a potentially large matrix -- need a conversion function to a UnitaryGate type??\n"
   ]
  },
  {
   "cell_type": "code",
   "execution_count": 6,
   "id": "5fcb3db7",
   "metadata": {},
   "outputs": [
    {
     "data": {
      "text/plain": [
       "true"
      ]
     },
     "execution_count": 6,
     "metadata": {},
     "output_type": "execute_result"
    }
   ],
   "source": [
    "#The Hadamard gate is self-adjoint\n",
    "H' == H"
   ]
  },
  {
   "cell_type": "code",
   "execution_count": 7,
   "id": "643060cd",
   "metadata": {},
   "outputs": [
    {
     "data": {
      "text/plain": [
       "(T, S†, X)"
      ]
     },
     "execution_count": 7,
     "metadata": {},
     "output_type": "execute_result"
    }
   ],
   "source": [
    "#Built in useful gates, with the last one being a π/2 rotation around the X axis\n",
    "T, S', X180"
   ]
  },
  {
   "cell_type": "code",
   "execution_count": 8,
   "id": "9f9a4ccf",
   "metadata": {},
   "outputs": [
    {
     "data": {
      "text/plain": [
       "Ry(3π/4)"
      ]
     },
     "execution_count": 8,
     "metadata": {},
     "output_type": "execute_result"
    }
   ],
   "source": [
    "#Another way to define a rotation gate\n",
    "PauliGate(Y, Angle(3//4))"
   ]
  },
  {
   "cell_type": "code",
   "execution_count": 9,
   "id": "482bea37",
   "metadata": {},
   "outputs": [
    {
     "data": {
      "text/plain": [
       "(PauliOperator[+ Z], + X)"
      ]
     },
     "execution_count": 9,
     "metadata": {},
     "output_type": "execute_result"
    }
   ],
   "source": [
    "CNOT.ctrl_pauli, CNOT.tgt_pauli"
   ]
  },
  {
   "cell_type": "markdown",
   "id": "bf72a1fc",
   "metadata": {},
   "source": [
    "## Circuits\n",
    "\n",
    "The model for circuits is similar to that used in Cirq: a `Circuit` object is an ordered list of `Slices`, each of which represent an operation on a disjoint set of qubits acting at a particular time during the circuit. Each slice maps a `Gate` object to one or more qubits, which are represented by integer id's. \n",
    "\n",
    "The array `[.]` operator is used as a shorthand to represent a gate acting on a specific qubit; for example:\n",
    "\n",
    "`H[1]` represents a Hadamard gate acting on qubit 1\n",
    "\n",
    "<font color='red'>TODOs:</font>\n",
    "\n",
    "- Probably many corner cases I haven't thought of\n",
    "\n",
    "- Finish tikz-based pretty-printing of circuit"
   ]
  },
  {
   "cell_type": "code",
   "execution_count": 10,
   "id": "6461a71e",
   "metadata": {},
   "outputs": [
    {
     "data": {
      "text/plain": [
       "(1) => H"
      ]
     },
     "execution_count": 10,
     "metadata": {},
     "output_type": "execute_result"
    }
   ],
   "source": [
    "H[1]"
   ]
  },
  {
   "cell_type": "markdown",
   "id": "7026e683",
   "metadata": {},
   "source": [
    "Slices can be built up using the multiplication operator, which represents simultaneous application"
   ]
  },
  {
   "cell_type": "code",
   "execution_count": 11,
   "id": "e8b8a081",
   "metadata": {},
   "outputs": [
    {
     "data": {
      "text/plain": [
       "H(1)*CNOT(2, 3)"
      ]
     },
     "execution_count": 11,
     "metadata": {},
     "output_type": "execute_result"
    }
   ],
   "source": [
    "H[1]*CNOT[2,3]"
   ]
  },
  {
   "cell_type": "markdown",
   "id": "7686d612",
   "metadata": {},
   "source": [
    "The code will not allow you to create a slice that acts multiple gates on the same qubit:"
   ]
  },
  {
   "cell_type": "code",
   "execution_count": 12,
   "id": "24b5a86f",
   "metadata": {},
   "outputs": [
    {
     "ename": "LoadError",
     "evalue": "ArgumentError: Cannot add to this slice!",
     "output_type": "error",
     "traceback": [
      "ArgumentError: Cannot add to this slice!",
      "",
      "Stacktrace:",
      " [1] push!(s::Slice, g::PauliGate{Angle}, qb_idx::HiQuER.QubitId)",
      "   @ HiQuER ~/GitHub/HiQuER/src/circuits/circuit_types.jl:103",
      " [2] Slice(gates::Vector{Pair{HiQuER.QubitId, HiQuER.AbstractGate}})",
      "   @ HiQuER ~/GitHub/HiQuER/src/circuits/circuit_types.jl:37",
      " [3] *(A::Pair{HiQuER.QubitId, Gate}, B::Pair{HiQuER.QubitId, PauliGate{Angle}})",
      "   @ HiQuER ~/GitHub/HiQuER/src/circuits/circuit_types.jl:56",
      " [4] top-level scope",
      "   @ In[12]:1",
      " [5] eval",
      "   @ ./boot.jl:373 [inlined]",
      " [6] include_string(mapexpr::typeof(REPL.softscope), mod::Module, code::String, filename::String)",
      "   @ Base ./loading.jl:1196"
     ]
    }
   ],
   "source": [
    "H[1]*S[1]"
   ]
  },
  {
   "cell_type": "markdown",
   "id": "ed8f7c8c",
   "metadata": {},
   "source": [
    "There are multiple ways to build up a circuit: by `push!`-ing slices or gates:"
   ]
  },
  {
   "cell_type": "code",
   "execution_count": 13,
   "id": "d98d63c6",
   "metadata": {},
   "outputs": [
    {
     "data": {
      "text/plain": [
       "1: H(1)\n",
       "2: T(3)*S(2)"
      ]
     },
     "execution_count": 13,
     "metadata": {},
     "output_type": "execute_result"
    }
   ],
   "source": [
    "c = Circuit()\n",
    "push!(c, H[1])\n",
    "push!(c, S[2]*T[3])\n",
    "c"
   ]
  },
  {
   "cell_type": "markdown",
   "id": "84da06fa",
   "metadata": {},
   "source": [
    "`push!` accepts different insertion strategies based on the `when` keyword:\n",
    "\n",
    "- `:earliest` (the default) will insert a gate into the first slice that is availble for that qubit\n",
    "\n",
    "- `:last` will create a new slice and add the gate at the end of the circuit"
   ]
  },
  {
   "cell_type": "code",
   "execution_count": 14,
   "id": "ad948c61",
   "metadata": {},
   "outputs": [
    {
     "data": {
      "text/plain": [
       "1: S(2)*H(1)\n",
       "2: CNOT(1, 3)"
      ]
     },
     "execution_count": 14,
     "metadata": {},
     "output_type": "execute_result"
    }
   ],
   "source": [
    "c = Circuit([H[1], CNOT[1,3]])\n",
    "push!(c, S, HiQuER.QubitId(2), when=:earliest)\n",
    "c"
   ]
  },
  {
   "cell_type": "code",
   "execution_count": 15,
   "id": "fc246713",
   "metadata": {},
   "outputs": [
    {
     "data": {
      "text/plain": [
       "1: H(1)\n",
       "2: CNOT(1, 3)\n",
       "3: S(2)"
      ]
     },
     "execution_count": 15,
     "metadata": {},
     "output_type": "execute_result"
    }
   ],
   "source": [
    "c = Circuit([H[1], CNOT[1,3]])\n",
    "push!(c, S, HiQuER.QubitId(2), when=:last)\n",
    "c"
   ]
  },
  {
   "cell_type": "markdown",
   "id": "edd8c708",
   "metadata": {},
   "source": [
    "Or from an array of slices:"
   ]
  },
  {
   "cell_type": "code",
   "execution_count": 16,
   "id": "f55a9e3d",
   "metadata": {},
   "outputs": [
    {
     "data": {
      "text/plain": [
       "1: S(1)\n",
       "2: CNOT(1, 2)\n",
       "3: H(2)"
      ]
     },
     "execution_count": 16,
     "metadata": {},
     "output_type": "execute_result"
    }
   ],
   "source": [
    "c = Circuit([S[1], CNOT[1,2], H[2]])"
   ]
  },
  {
   "cell_type": "markdown",
   "id": "fca8a435",
   "metadata": {},
   "source": [
    "The adjoint of a circuit will be automatically constructed in the expected way:"
   ]
  },
  {
   "cell_type": "markdown",
   "id": "3113d3cf",
   "metadata": {},
   "source": [
    "## QASM interop\n",
    "\n",
    "Circuits can be converted into OpenQASM 2.0 files with the `to_qasm` function.\n",
    "\n",
    "<font color='red'>TODOs:</font> \n",
    "\n",
    "- Finish QASM -> Circuit converter. Can succesfully parse file into a `QASMListing` object but need to finish the conversion to a `Circuit`\n"
   ]
  },
  {
   "cell_type": "code",
   "execution_count": 17,
   "id": "a5a2704d",
   "metadata": {},
   "outputs": [
    {
     "data": {
      "text/plain": [
       "OPENQASM 2.0;\n",
       "include \"qelib1.inc\";\n",
       "qreg q[2];\n",
       "s q[0];\n",
       "cx q[0], q[1];\n",
       "h q[1];"
      ]
     },
     "execution_count": 17,
     "metadata": {},
     "output_type": "execute_result"
    }
   ],
   "source": [
    "to_qasm(c)"
   ]
  },
  {
   "cell_type": "markdown",
   "id": "372d55af",
   "metadata": {},
   "source": [
    "To define an OpenQASM gate not in the standard \"qelib1.inc\" header file, the function can be passed additional `QASMGateDef` objects created from circuits:"
   ]
  },
  {
   "cell_type": "code",
   "execution_count": 18,
   "id": "7a9f6bb2",
   "metadata": {},
   "outputs": [
    {
     "data": {
      "text/plain": [
       "OPENQASM 2.0;\n",
       "include \"qelib1.inc\";\n",
       "gate blub q1 q2 {\n",
       "rx(3π/4) q2;\n",
       "rz(π/2) q1;\n",
       "}\n",
       "qreg q[2];\n",
       "h q[1];\n",
       "blub q[0];\n",
       "cx q[0], q[1];\n",
       "blub q[1];"
      ]
     },
     "execution_count": 18,
     "metadata": {},
     "output_type": "execute_result"
    }
   ],
   "source": [
    "qdef = QASMGateDef(Circuit([Rz(Angle(1//2))[1]*Rx(Angle(3//4))[2]]), :blub)\n",
    "Blub = Gate(:blub)\n",
    "\n",
    "circ = Circuit([Blub[1]*H[2], CNOT[1,2], Blub[2]])\n",
    "to_qasm(circ, gatedefs=[qdef])"
   ]
  },
  {
   "cell_type": "markdown",
   "id": "6b1082b5",
   "metadata": {},
   "source": [
    "## Pretty pictures\n",
    "\n",
    "You can use the nice [Quantikz.jl](https://krastanov.github.io/Quantikz/stable/) package to make nice Tikz circuit diagrams with the `draw` function. "
   ]
  },
  {
   "cell_type": "code",
   "execution_count": 19,
   "id": "f8a8e477",
   "metadata": {},
   "outputs": [
    {
     "data": {
      "image/png": "[encoded data removed]"
     },
     "metadata": {},
     "output_type": "display_data"
    }
   ],
   "source": [
    "c = Circuit([H[1], CNOT[1,2], H[1], MEAS[2]])\n",
    "draw(c)"
   ]
  },
  {
   "cell_type": "code",
   "execution_count": null,
   "id": "22283e25",
   "metadata": {},
   "outputs": [],
   "source": []
  }
 ],
 "metadata": {
  "kernelspec": {
   "display_name": "Julia 1.7.3",
   "language": "julia",
   "name": "julia-1.7"
  },
  "language_info": {
   "file_extension": ".jl",
   "mimetype": "application/julia",
   "name": "julia",
   "version": "1.7.3"
  }
 },
 "nbformat": 4,
 "nbformat_minor": 5
}
