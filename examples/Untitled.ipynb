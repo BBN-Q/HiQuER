{
 "cells": [
  {
   "cell_type": "code",
   "execution_count": 178,
   "id": "06c66478-e5f1-4f9b-a729-52b03dfc830d",
   "metadata": {
    "tags": []
   },
   "outputs": [
    {
     "name": "stderr",
     "output_type": "stream",
     "text": [
      "\u001b[32m\u001b[1m  Activating\u001b[22m\u001b[39m project at `~/GitHub/HiQuER`\n"
     ]
    }
   ],
   "source": [
    "using Pkg\n",
    "Pkg.activate(\"/home/gribeill/GitHub/HiQuER/\")\n",
    "using HiQuER\n",
    "using LRUCache\n",
    "using BenchmarkTools\n",
    "using OpenQASM\n",
    "using StaticArrays"
   ]
  },
  {
   "cell_type": "code",
   "execution_count": 179,
   "id": "f0a1da3b-f70e-4400-b8c3-831fc93f4073",
   "metadata": {},
   "outputs": [],
   "source": [
    "using Revise"
   ]
  },
  {
   "cell_type": "code",
   "execution_count": 180,
   "id": "e681421f-aa08-4084-8e7c-68b2a18f3d38",
   "metadata": {},
   "outputs": [
    {
     "ename": "LoadError",
     "evalue": "syntax: invalid type signature around In[180]:1",
     "output_type": "error",
     "traceback": [
      "syntax: invalid type signature around In[180]:1",
      "",
      "Stacktrace:",
      " [1] top-level scope",
      "   @ In[180]:1",
      " [2] eval",
      "   @ ./boot.jl:368 [inlined]",
      " [3] include_string(mapexpr::typeof(REPL.softscope), mod::Module, code::String, filename::String)",
      "   @ Base ./loading.jl:1428"
     ]
    }
   ],
   "source": [
    "struct Test{Sz} where Sz<:Int\n",
    "    q::StaticArray{Sz, Float64}\n",
    "end"
   ]
  },
  {
   "cell_type": "code",
   "execution_count": 181,
   "id": "defe7280-501a-4cc2-94fd-48c07403a1b4",
   "metadata": {},
   "outputs": [
    {
     "data": {
      "text/plain": [
       "false"
      ]
     },
     "execution_count": 181,
     "metadata": {},
     "output_type": "execute_result"
    }
   ],
   "source": [
    "T == T'"
   ]
  },
  {
   "cell_type": "code",
   "execution_count": 205,
   "id": "9ddd8bae-83ed-4895-8faf-c933c649e7cf",
   "metadata": {},
   "outputs": [
    {
     "data": {
      "text/plain": [
       "94"
      ]
     },
     "execution_count": 205,
     "metadata": {},
     "output_type": "execute_result"
    }
   ],
   "source": [
    "qasm = \"\"\"\n",
    "OPENQASM 2.0;\n",
    "include \"qelib1.inc\";\n",
    "\n",
    "qreg q[2];\n",
    "\n",
    "rz(-0.2132411223) q[0];\n",
    "rz(0.12324211) q[1];\n",
    "\"\"\"\n",
    "\n",
    "open(\"test/fold.qasm\", \"w\") do io\n",
    "    write(io, qasm)\n",
    "end"
   ]
  },
  {
   "cell_type": "code",
   "execution_count": 206,
   "id": "8c463ac3-6cb1-4747-9557-d4ba57ffaa12",
   "metadata": {},
   "outputs": [
    {
     "data": {
      "text/plain": [
       "@bash_str (macro with 1 method)"
      ]
     },
     "execution_count": 206,
     "metadata": {},
     "output_type": "execute_result"
    }
   ],
   "source": [
    "macro bash_str(s) open(`bash`,\"w\",stdout) do io; print(io, s); end; end"
   ]
  },
  {
   "cell_type": "code",
   "execution_count": 207,
   "id": "2a487566-fb49-45af-8fcf-313cb3d367b0",
   "metadata": {},
   "outputs": [
    {
     "name": "stdout",
     "output_type": "stream",
     "text": [
      "Resources used:\n",
      "  depth: 153\n",
      "  t: 120\n",
      "  h: 120\n",
      "  y: 1\n",
      "  s: 50\n",
      "  qubits: 2\n"
     ]
    }
   ],
   "source": [
    "bash\"\"\"\n",
    "cat test/fold.qasm | python3 ../util/rotation_synth/rotation_synth.py | \\\n",
    "tee test/fold2.qasm | staq_resource_estimator\n",
    "\"\"\""
   ]
  },
  {
   "cell_type": "code",
   "execution_count": 208,
   "id": "6b7ddec4-b657-4190-aacb-abc797e15391",
   "metadata": {},
   "outputs": [],
   "source": [
    "bash\"\"\"\n",
    "cat test/fold2.qasm | staq_lattice_surgery > fold2.json\"\"\""
   ]
  },
  {
   "cell_type": "code",
   "execution_count": 190,
   "id": "a3e1eb54-16d5-4693-9699-17fbef1016c2",
   "metadata": {},
   "outputs": [
    {
     "data": {
      "text/plain": [
       "\u001b[0m\u001b[1mOPENQASM \u001b[22m\u001b[33m2.0\u001b[39m;\n",
       "\u001b[94minclude \u001b[39m\"qelib1.inc\";\n",
       "\u001b[94mqreg\u001b[39m \u001b[96mq\u001b[39m[\u001b[32m2\u001b[39m];\n",
       "\u001b[95mrz\u001b[39m(-(\u001b[32m0.2132411223\u001b[39m)) \u001b[96mq\u001b[39m[\u001b[32m0\u001b[39m];\n",
       "\u001b[95mrz\u001b[39m(-(\u001b[32m0.12324211\u001b[39m)) \u001b[96mq\u001b[39m[\u001b[32m1\u001b[39m];"
      ]
     },
     "execution_count": 190,
     "metadata": {},
     "output_type": "execute_result"
    }
   ],
   "source": [
    "qq = OpenQASM.parse(qasm)"
   ]
  },
  {
   "cell_type": "code",
   "execution_count": 188,
   "id": "d9c406e8-ceaf-4cd3-b71a-5528ef5cc31f",
   "metadata": {},
   "outputs": [
    {
     "ename": "LoadError",
     "evalue": "MethodError: no method matching fieldnames(::OpenQASM.Types.Measure)\n\u001b[0mClosest candidates are:\n\u001b[0m  fieldnames(\u001b[91m::Core.TypeofBottom\u001b[39m) at reflection.jl:188\n\u001b[0m  fieldnames(\u001b[91m::Type{<:Tuple}\u001b[39m) at reflection.jl:190\n\u001b[0m  fieldnames(\u001b[91m::DataType\u001b[39m) at reflection.jl:185\n\u001b[0m  ...",
     "output_type": "error",
     "traceback": [
      "MethodError: no method matching fieldnames(::OpenQASM.Types.Measure)\n\u001b[0mClosest candidates are:\n\u001b[0m  fieldnames(\u001b[91m::Core.TypeofBottom\u001b[39m) at reflection.jl:188\n\u001b[0m  fieldnames(\u001b[91m::Type{<:Tuple}\u001b[39m) at reflection.jl:190\n\u001b[0m  fieldnames(\u001b[91m::DataType\u001b[39m) at reflection.jl:185\n\u001b[0m  ...",
      "",
      "Stacktrace:",
      " [1] top-level scope",
      "   @ In[188]:1",
      " [2] eval",
      "   @ ./boot.jl:368 [inlined]",
      " [3] include_string(mapexpr::typeof(REPL.softscope), mod::Module, code::String, filename::String)",
      "   @ Base ./loading.jl:1428"
     ]
    }
   ],
   "source": [
    "(qq.prog[5])"
   ]
  },
  {
   "cell_type": "code",
   "execution_count": 173,
   "id": "5cd151bb-9ac9-47a7-9b29-137c7b4b3b80",
   "metadata": {},
   "outputs": [],
   "source": [
    "using RBNF"
   ]
  },
  {
   "cell_type": "code",
   "execution_count": 175,
   "id": "b266009b-e98a-4067-ab81-393613e887fe",
   "metadata": {},
   "outputs": [
    {
     "data": {
      "text/plain": [
       "true"
      ]
     },
     "execution_count": 175,
     "metadata": {},
     "output_type": "execute_result"
    }
   ],
   "source": [
    "qq.prog[3].cargs[1][2] isa RBNF.Token"
   ]
  },
  {
   "cell_type": "code",
   "execution_count": 170,
   "id": "5a5da894-07ce-4ebe-9640-9d63ba39cbf6",
   "metadata": {},
   "outputs": [
    {
     "data": {
      "text/plain": [
       "(-(\u001b[94mpi\u001b[39m), RBNF.Token{:reserved}(6, 7, 56, \"/\", 1), RBNF.Token{:int}(6, 8, 57, \"2\", 1))"
      ]
     },
     "execution_count": 170,
     "metadata": {},
     "output_type": "execute_result"
    }
   ],
   "source": [
    "qq.prog[3].cargs[1]"
   ]
  },
  {
   "cell_type": "code",
   "execution_count": 169,
   "id": "07ae35c9-0dbe-46f0-a970-880fc4e8a2ab",
   "metadata": {},
   "outputs": [
    {
     "data": {
      "text/plain": [
       "Tuple{OpenQASM.Types.Neg, RBNF.Token{:reserved}, RBNF.Token{:int}}"
      ]
     },
     "execution_count": 169,
     "metadata": {},
     "output_type": "execute_result"
    }
   ],
   "source": [
    "typeof(qq.prog[3].cargs[1])"
   ]
  },
  {
   "cell_type": "code",
   "execution_count": 163,
   "id": "c9a96119-0241-4a16-9f88-420cca3dcda6",
   "metadata": {},
   "outputs": [
    {
     "name": "stdout",
     "output_type": "stream",
     "text": [
      "\u001b[95mu3\u001b[39m(\u001b[32m0.4721\u001b[39m, \u001b[32m0.31211\u001b[39m, \u001b[32m0.1\u001b[39m) \u001b[96mq\u001b[39m[\u001b[32m1\u001b[39m];\n"
     ]
    },
    {
     "data": {
      "text/plain": [
       "1: Rz(0.1)(2)\n",
       "2: Rx(π/2)(2)\n",
       "3: Rz(3.4537026535897932)(2)\n",
       "4: Rx(π/2)(2)\n",
       "5: Rz(9.896877960769379)(2)"
      ]
     },
     "execution_count": 163,
     "metadata": {},
     "output_type": "execute_result"
    }
   ],
   "source": [
    "parse_qasm_circuit(qasm)"
   ]
  },
  {
   "cell_type": "code",
   "execution_count": 133,
   "id": "4b18e801-44b8-4f09-9c87-099889ed7f7a",
   "metadata": {},
   "outputs": [
    {
     "data": {
      "text/plain": [
       "3152519739159347//4503599627370496"
      ]
     },
     "execution_count": 133,
     "metadata": {},
     "output_type": "execute_result"
    }
   ],
   "source": [
    "a.value"
   ]
  },
  {
   "cell_type": "code",
   "execution_count": 127,
   "id": "56875c48-b6cd-4f7b-a491-61bfe3b0e296",
   "metadata": {},
   "outputs": [],
   "source": [
    "using Match"
   ]
  },
  {
   "cell_type": "code",
   "execution_count": 134,
   "id": "b72c6394-d7aa-4d2b-b0d4-4eee4392b866",
   "metadata": {},
   "outputs": [
    {
     "data": {
      "text/plain": [
       "4"
      ]
     },
     "execution_count": 134,
     "metadata": {},
     "output_type": "execute_result"
    }
   ],
   "source": [
    "x = \"a\"\n",
    "n = @match x begin\n",
    "    \"a\" => begin \n",
    "        z = 1\n",
    "        q = 3\n",
    "        z+q\n",
    "    end\n",
    "    \"b\" => 3\n",
    "end"
   ]
  },
  {
   "cell_type": "code",
   "execution_count": 135,
   "id": "d89641aa-2361-4c66-8aae-88de485a59a3",
   "metadata": {},
   "outputs": [
    {
     "data": {
      "text/plain": [
       "4"
      ]
     },
     "execution_count": 135,
     "metadata": {},
     "output_type": "execute_result"
    }
   ],
   "source": [
    "n"
   ]
  },
  {
   "cell_type": "code",
   "execution_count": 123,
   "id": "9accf992-bd39-4303-be1d-aae39272c5bc",
   "metadata": {},
   "outputs": [
    {
     "data": {
      "text/plain": [
       "(nothing, [(\"q\", 2)])"
      ]
     },
     "execution_count": 123,
     "metadata": {},
     "output_type": "execute_result"
    }
   ],
   "source": [
    "HiQuER.parse_qasm(qq.prog[3])"
   ]
  },
  {
   "cell_type": "code",
   "execution_count": 301,
   "id": "0e40ee36-17c1-46e3-8acf-ec8d8a38b427",
   "metadata": {},
   "outputs": [
    {
     "data": {
      "text/plain": [
       "load_qasm_circuit (generic function with 1 method)"
      ]
     },
     "execution_count": 301,
     "metadata": {},
     "output_type": "execute_result"
    }
   ],
   "source": [
    "function load_qasm(path)\n",
    "    open(path, \"r\") do io\n",
    "        qasm = read(io, String)\n",
    "        return OpenQASM.parse(qasm)\n",
    "    end \n",
    "end\n",
    "\n",
    "function parse_qasm(reg::OpenQASM.Types.RegDecl)\n",
    "    name = reg.name.str\n",
    "    width = parse(Int, reg.size.str)\n",
    "    return (HiQuER.QRegister(name, width),)\n",
    "end\n",
    "\n",
    "function parse_qasm(bit::OpenQASM.Types.Bit)\n",
    "    return (bit.name.str, 1+parse(Int, bit.address.str))\n",
    "end \n",
    "\n",
    "function parse_carg(carg)\n",
    "    if carg isa OpenQASM.Types.Neg\n",
    "        return -1.0*parse(Float64, carg.val.str)\n",
    "    else\n",
    "        return parse(Float64, carg.str)\n",
    "    end\n",
    "end\n",
    "    \n",
    "\n",
    "function parse_qasm(instr::OpenQASM.Types.Instruction)\n",
    "    qargs = [parse_qasm(q) for q in instr.qargs]\n",
    "    cargs = instr.cargs\n",
    "    gate = @match instr.name begin\n",
    "        \n",
    "        \"s\" => HiQuER.S\n",
    "        \"sdg\" => HiQuER.S'\n",
    "        \"h\"   => HiQuER.H\n",
    "        \"t\"   => HiQuER.T\n",
    "        \"tdg\" => HiQuER.T'\n",
    "        \"cx\"  => HiQuER.CNOT\n",
    "        \"rx\"  => HiQuER.Rx(FloatAngle(parse_carg(cargs[1])))\n",
    "        \"ry\"  => HiQuER.Ry(FloatAngle(parse_carg(cargs[1])))\n",
    "        \"rz\"  => HiQuER.Rz(FloatAngle(parse_carg(cargs[1])))\n",
    "    end\n",
    "    \n",
    "    return (gate, qargs)\n",
    "end\n",
    "\n",
    "function parse_qasm(include::OpenQASM.Types.Include)\n",
    "    return nothing\n",
    "end\n",
    "\n",
    "function load_qasm_circuit(path)\n",
    "    ast = load_qasm(path)\n",
    "    prog = ast.prog\n",
    "    \n",
    "    c = Circuit()\n",
    "    \n",
    "    for (idx, instr) in enumerate(prog)\n",
    "        println(idx, instr)\n",
    "        if !isnothing(local m = parse_qasm(instr))\n",
    "            push!(c, m...)\n",
    "        end\n",
    "    end\n",
    "    return c\n",
    "end "
   ]
  },
  {
   "cell_type": "code",
   "execution_count": 21,
   "id": "83d8c7a0-c5dd-48df-868f-260cefe4939e",
   "metadata": {},
   "outputs": [
    {
     "data": {
      "text/latex": [
       "\\begin{tabular}\n",
       "{l | r | l}\n",
       "name & size & summary \\\\\n",
       "\\hline\n",
       "z & 2.048 MiB & Circuit \\\\\n",
       "\\end{tabular}\n"
      ],
      "text/markdown": [
       "| name |      size | summary |\n",
       "|:---- | ---------:|:------- |\n",
       "| z    | 2.048 MiB | Circuit |\n"
      ],
      "text/plain": [
       "  name      size summary\n",
       "  –––– ––––––––– –––––––\n",
       "  z    2.048 MiB Circuit"
      ]
     },
     "execution_count": 21,
     "metadata": {},
     "output_type": "execute_result"
    }
   ],
   "source": [
    "varinfo(r\"z\")"
   ]
  },
  {
   "cell_type": "code",
   "execution_count": 23,
   "id": "f3f6d75a-063a-4393-9f8a-e50926770627",
   "metadata": {},
   "outputs": [
    {
     "ename": "LoadError",
     "evalue": "MethodError: no method matching *(::Vector{Int64}, ::Vector{Int64})\n\u001b[0mClosest candidates are:\n\u001b[0m  *(::Any, ::Any, \u001b[91m::Any\u001b[39m, \u001b[91m::Any...\u001b[39m) at operators.jl:591\n\u001b[0m  *(\u001b[91m::StridedMatrix{T}\u001b[39m, ::StridedVector{S}) where {T<:Union{Float32, Float64, ComplexF32, ComplexF64}, S<:Real} at ~/julia-1.8.2/share/julia/stdlib/v1.8/LinearAlgebra/src/matmul.jl:49\n\u001b[0m  *(::StridedVecOrMat, \u001b[91m::LinearAlgebra.Adjoint{<:Any, <:LinearAlgebra.LQPackedQ}\u001b[39m) at ~/julia-1.8.2/share/julia/stdlib/v1.8/LinearAlgebra/src/lq.jl:269\n\u001b[0m  ...",
     "output_type": "error",
     "traceback": [
      "MethodError: no method matching *(::Vector{Int64}, ::Vector{Int64})\n\u001b[0mClosest candidates are:\n\u001b[0m  *(::Any, ::Any, \u001b[91m::Any\u001b[39m, \u001b[91m::Any...\u001b[39m) at operators.jl:591\n\u001b[0m  *(\u001b[91m::StridedMatrix{T}\u001b[39m, ::StridedVector{S}) where {T<:Union{Float32, Float64, ComplexF32, ComplexF64}, S<:Real} at ~/julia-1.8.2/share/julia/stdlib/v1.8/LinearAlgebra/src/matmul.jl:49\n\u001b[0m  *(::StridedVecOrMat, \u001b[91m::LinearAlgebra.Adjoint{<:Any, <:LinearAlgebra.LQPackedQ}\u001b[39m) at ~/julia-1.8.2/share/julia/stdlib/v1.8/LinearAlgebra/src/lq.jl:269\n\u001b[0m  ...",
      "",
      "Stacktrace:",
      " [1] top-level scope",
      "   @ In[23]:1",
      " [2] eval",
      "   @ ./boot.jl:368 [inlined]",
      " [3] include_string(mapexpr::typeof(REPL.softscope), mod::Module, code::String, filename::String)",
      "   @ Base ./loading.jl:1428"
     ]
    }
   ],
   "source": [
    "[1,2,3]*[3,4,5]"
   ]
  },
  {
   "cell_type": "code",
   "execution_count": 26,
   "id": "d2c3a695-2c10-40c1-a0fb-005f3eeace72",
   "metadata": {},
   "outputs": [
    {
     "data": {
      "text/plain": [
       "Set{Int64} with 3 elements:\n",
       "  5\n",
       "  4\n",
       "  1"
      ]
     },
     "execution_count": 26,
     "metadata": {},
     "output_type": "execute_result"
    }
   ],
   "source": [
    "a = Set([1,2,3])\n",
    "b = Set([1,4,5])"
   ]
  },
  {
   "cell_type": "code",
   "execution_count": 49,
   "id": "089ab7d0-0821-40a0-8649-222f41dac5bd",
   "metadata": {},
   "outputs": [
    {
     "data": {
      "text/plain": [
       "HiQuER.AbstractGate[]"
      ]
     },
     "execution_count": 49,
     "metadata": {},
     "output_type": "execute_result"
    }
   ],
   "source": [
    "gates = Vector{HiQuER.AbstractGate}()"
   ]
  },
  {
   "cell_type": "code",
   "execution_count": 40,
   "id": "37151470-2f5b-4d6e-816e-d095e74a3a23",
   "metadata": {},
   "outputs": [],
   "source": [
    "cliffordT = Set([H, S, T, X180, Y180, Z180, X90, Y90, Z90, CNOT])\n",
    "union!(cliffordT, Set([g' for g in cliffordT]));"
   ]
  },
  {
   "cell_type": "code",
   "execution_count": 69,
   "id": "e9599925-c64b-4ddb-b2c9-5fc70ea2e160",
   "metadata": {},
   "outputs": [
    {
     "data": {
      "text/plain": [
       "\"HTHTSHTSHTHTSHTSHTSHTSHTSHTHTHTHTHTSHTHTHTHTHTHTHTHTHTSHTHTSHTHTSHTSHTHTHTSHTSHTSHTSHTHTHTSHTSHTSHTHTSHTHTSHTSHTSHTHTHTHTSHTSHTHTSHTSHTHTHTHTHTSHTHTSHTHTSHTHTHTHTSHTHTHTSHTHTSHTHTSHTHTHTHTHTSHTHTSHTSHTHTHTSHTHTSHTSHTHTSHTHTSHTHTSHTSHTHTSHTSHTHTHTSHTSHTHTSHTSHTHTSHTHTHTHTHTSHTHTSHTHTHTSHSSS\""
      ]
     },
     "execution_count": 69,
     "metadata": {},
     "output_type": "execute_result"
    }
   ],
   "source": [
    "ϵ = 1e-12\n",
    "θ = pi/3\n",
    "out = readchomp(`gridsynth -e $ϵ -p 3\\*pi/41`)"
   ]
  },
  {
   "cell_type": "code",
   "execution_count": 102,
   "id": "ab95f299-4f9d-4806-a4f0-55201421dddb",
   "metadata": {},
   "outputs": [
    {
     "data": {
      "text/plain": [
       "gridsynth (generic function with 4 methods)"
      ]
     },
     "execution_count": 102,
     "metadata": {},
     "output_type": "execute_result"
    }
   ],
   "source": [
    "function gridsynth(angle::Float64, ϵ=1e-10)\n",
    "    decomp = readchomp(`gridsynth -e $ϵ -p $angle`)\n",
    "    gates = Vector{HiQuER.AbstractGate}()\n",
    "    for u in decomp\n",
    "        if u == 'X'\n",
    "            push!(gates, X180)\n",
    "        else\n",
    "            push!(gates, eval(Symbol(u)))\n",
    "        end\n",
    "    end\n",
    "    return gates\n",
    "end"
   ]
  },
  {
   "cell_type": "code",
   "execution_count": 97,
   "id": "6fc93548-bdc7-45a9-a8f7-5725a2b22adc",
   "metadata": {},
   "outputs": [
    {
     "name": "stderr",
     "output_type": "stream",
     "text": [
      "WARNING: redefinition of constant synth_lru. This may fail, cause incorrect answers, or produce other errors.\n"
     ]
    },
    {
     "data": {
      "text/plain": [
       "cached_gridsynth (generic function with 2 methods)"
      ]
     },
     "execution_count": 97,
     "metadata": {},
     "output_type": "execute_result"
    }
   ],
   "source": [
    "const synth_lru = LRU{Tuple{Float64, Float64}, Vector{HiQuER.AbstractGate}}(maxsize=10000)\n",
    "\n",
    "function cached_gridsynth(θ::FloatAngle, ϵ=1e-10)\n",
    "    angle = θ.value\n",
    "    old = filter(x -> abs(x[1] - angle) < ϵ, collect(keys(synth_lru)))\n",
    "    if length(old) > 0\n",
    "        angle = old[1][1]\n",
    "    end\n",
    "    get!(synth_lru, (angle, ϵ)) do\n",
    "        gridsynth(angle, ϵ)\n",
    "    end\n",
    "end     "
   ]
  },
  {
   "cell_type": "code",
   "execution_count": 110,
   "id": "eaa327f6-afe5-4899-9284-d7b295f813e8",
   "metadata": {},
   "outputs": [
    {
     "data": {
      "text/plain": [
       "BenchmarkTools.Trial: 377 samples with 1 evaluation.\n",
       " Range \u001b[90m(\u001b[39m\u001b[36m\u001b[1mmin\u001b[22m\u001b[39m … \u001b[35mmax\u001b[39m\u001b[90m):  \u001b[39m\u001b[36m\u001b[1m11.372 ms\u001b[22m\u001b[39m … \u001b[35m22.197 ms\u001b[39m  \u001b[90m┊\u001b[39m GC \u001b[90m(\u001b[39mmin … max\u001b[90m): \u001b[39m0.00% … 0.00%\n",
       " Time  \u001b[90m(\u001b[39m\u001b[34m\u001b[1mmedian\u001b[22m\u001b[39m\u001b[90m):     \u001b[39m\u001b[34m\u001b[1m12.568 ms              \u001b[22m\u001b[39m\u001b[90m┊\u001b[39m GC \u001b[90m(\u001b[39mmedian\u001b[90m):    \u001b[39m0.00%\n",
       " Time  \u001b[90m(\u001b[39m\u001b[32m\u001b[1mmean\u001b[22m\u001b[39m ± \u001b[32mσ\u001b[39m\u001b[90m):   \u001b[39m\u001b[32m\u001b[1m13.265 ms\u001b[22m\u001b[39m ± \u001b[32m 1.878 ms\u001b[39m  \u001b[90m┊\u001b[39m GC \u001b[90m(\u001b[39mmean ± σ\u001b[90m):  \u001b[39m0.00% ± 0.00%\n",
       "\n",
       "  \u001b[39m \u001b[39m \u001b[39m \u001b[39m▃\u001b[39m▄\u001b[39m█\u001b[39m▄\u001b[39m \u001b[34m \u001b[39m\u001b[39m \u001b[39m \u001b[39m \u001b[32m \u001b[39m\u001b[39m \u001b[39m \u001b[39m \u001b[39m \u001b[39m \u001b[39m \u001b[39m \u001b[39m \u001b[39m \u001b[39m \u001b[39m \u001b[39m \u001b[39m \u001b[39m \u001b[39m \u001b[39m \u001b[39m \u001b[39m \u001b[39m \u001b[39m \u001b[39m \u001b[39m \u001b[39m \u001b[39m \u001b[39m \u001b[39m \u001b[39m \u001b[39m \u001b[39m \u001b[39m \u001b[39m \u001b[39m \u001b[39m \u001b[39m \u001b[39m \u001b[39m \u001b[39m \u001b[39m \u001b[39m \u001b[39m \u001b[39m \u001b[39m \u001b[39m \u001b[39m \u001b[39m \u001b[39m \u001b[39m \u001b[39m \n",
       "  \u001b[39m▃\u001b[39m▆\u001b[39m█\u001b[39m█\u001b[39m█\u001b[39m█\u001b[39m█\u001b[39m▇\u001b[34m▇\u001b[39m\u001b[39m█\u001b[39m▆\u001b[39m▇\u001b[32m▄\u001b[39m\u001b[39m▄\u001b[39m▅\u001b[39m▄\u001b[39m▄\u001b[39m▄\u001b[39m▄\u001b[39m▃\u001b[39m▃\u001b[39m▃\u001b[39m▄\u001b[39m▄\u001b[39m▃\u001b[39m▃\u001b[39m▃\u001b[39m▃\u001b[39m▁\u001b[39m▃\u001b[39m▃\u001b[39m▂\u001b[39m▃\u001b[39m▃\u001b[39m▂\u001b[39m▁\u001b[39m▃\u001b[39m▃\u001b[39m▁\u001b[39m▁\u001b[39m▂\u001b[39m▂\u001b[39m▂\u001b[39m▂\u001b[39m▂\u001b[39m▃\u001b[39m▃\u001b[39m▁\u001b[39m▂\u001b[39m▂\u001b[39m▃\u001b[39m▂\u001b[39m▂\u001b[39m▁\u001b[39m▂\u001b[39m▁\u001b[39m▁\u001b[39m▁\u001b[39m▂\u001b[39m \u001b[39m▃\n",
       "  11.4 ms\u001b[90m         Histogram: frequency by time\u001b[39m        20.4 ms \u001b[0m\u001b[1m<\u001b[22m\n",
       "\n",
       " Memory estimate\u001b[90m: \u001b[39m\u001b[33m225.37 KiB\u001b[39m, allocs estimate\u001b[90m: \u001b[39m\u001b[33m572\u001b[39m."
      ]
     },
     "execution_count": 110,
     "metadata": {},
     "output_type": "execute_result"
    }
   ],
   "source": [
    "@benchmark gridsynth(1.0 + pi/32815)"
   ]
  },
  {
   "cell_type": "code",
   "execution_count": 100,
   "id": "06eea266-13d0-411d-9fe5-c3e0743a5125",
   "metadata": {},
   "outputs": [
    {
     "name": "stdout",
     "output_type": "stream",
     "text": [
      "being slow\n"
     ]
    },
    {
     "data": {
      "text/plain": [
       "248-element Vector{HiQuER.AbstractGate}:\n",
       " H\n",
       " T\n",
       " S\n",
       " H\n",
       " T\n",
       " S\n",
       " H\n",
       " T\n",
       " H\n",
       " T\n",
       " S\n",
       " H\n",
       " T\n",
       " ⋮\n",
       " T\n",
       " H\n",
       " T\n",
       " H\n",
       " T\n",
       " S\n",
       " H\n",
       " T\n",
       " H\n",
       " X\n",
       " S\n",
       " S"
      ]
     },
     "execution_count": 100,
     "metadata": {},
     "output_type": "execute_result"
    }
   ],
   "source": [
    "cached_gridsynth(FloatAngle(pi/127 + 1e-9 + 1e-10 + 1e-7))"
   ]
  },
  {
   "cell_type": "code",
   "execution_count": 53,
   "id": "f2cc65f5-6359-4838-9469-4f0b6bfc0e83",
   "metadata": {},
   "outputs": [],
   "source": [
    "for (idx, slice) in enumerate(c.slices)\n",
    "    nonCT = filter(x -> !(x in cliffordT), collect(values(slice.gates)))\n",
    "    append!(gates, nonCT)\n",
    "end"
   ]
  },
  {
   "cell_type": "code",
   "execution_count": 54,
   "id": "6157dd77-3f68-4f4f-9f9e-c549d3d27468",
   "metadata": {},
   "outputs": [
    {
     "data": {
      "text/plain": [
       "958-element Vector{HiQuER.AbstractGate}:\n",
       " Rz(0.12120496481657)\n",
       " Rz(0.112213991582394)\n",
       " Rz(0.0930429250001907)\n",
       " Rz(0.125459060072899)\n",
       " Rz(0.103709444403648)\n",
       " Rz(0.128557279706001)\n",
       " Rz(0.116796024143696)\n",
       " Rz(0.123350352048874)\n",
       " Rz(0.109851323068142)\n",
       " Rz(0.094442144036293)\n",
       " Rz(0.107436716556549)\n",
       " Rz(0.1133768633008)\n",
       " Rz(0.124409168958664)\n",
       " ⋮\n",
       " Rz(-0.0476885512471199)\n",
       " Rz(-0.0490914508700371)\n",
       " Rz(-0.0515644103288651)\n",
       " Rz(-0.0486283153295517)\n",
       " Rz(-0.0509018823504448)\n",
       " Rz(-0.0426804572343826)\n",
       " Rz(-0.0479252263903618)\n",
       " Rz(-0.0524347499012947)\n",
       " Rz(-0.052650086581707)\n",
       " Rz(-0.0506791174411774)\n",
       " Rz(-0.0513445138931274)\n",
       " Rz(-0.0497780814766884)"
      ]
     },
     "execution_count": 54,
     "metadata": {},
     "output_type": "execute_result"
    }
   ],
   "source": [
    "gates"
   ]
  },
  {
   "cell_type": "code",
   "execution_count": 136,
   "id": "8d4e2d40-2b74-4097-99d2-9d1bb09307fc",
   "metadata": {},
   "outputs": [
    {
     "data": {
      "text/plain": [
       "Set{Int64} with 3 elements:\n",
       "  2\n",
       "  3\n",
       "  1"
      ]
     },
     "execution_count": 136,
     "metadata": {},
     "output_type": "execute_result"
    }
   ],
   "source": [
    "a = Set([1,2,3])"
   ]
  },
  {
   "cell_type": "code",
   "execution_count": 253,
   "id": "ae8f46da-e010-40a8-9b04-9c32554a7bc1",
   "metadata": {},
   "outputs": [
    {
     "data": {
      "text/plain": []
     },
     "execution_count": 253,
     "metadata": {},
     "output_type": "execute_result"
    }
   ],
   "source": [
    "c = Circuit()"
   ]
  },
  {
   "cell_type": "code",
   "execution_count": 254,
   "id": "577d2332-cf40-472a-b453-27222f888479",
   "metadata": {},
   "outputs": [
    {
     "data": {
      "text/plain": [
       "QRegister(\"c\", 4, Dict{Int64, HiQuER.QubitId}(4 => (0), 2 => (0), 3 => (0), 1 => (0)))"
      ]
     },
     "execution_count": 254,
     "metadata": {},
     "output_type": "execute_result"
    }
   ],
   "source": [
    "a = QRegister(\"a\", 3)\n",
    "b = QRegister(\"c\", 4)"
   ]
  },
  {
   "cell_type": "code",
   "execution_count": 255,
   "id": "bed71b8e-591c-4aa1-bbef-3809619d7e23",
   "metadata": {},
   "outputs": [],
   "source": [
    "push!(c, a)"
   ]
  },
  {
   "cell_type": "code",
   "execution_count": 256,
   "id": "44f3107e-994b-4be1-853f-0d7b31b0d30a",
   "metadata": {},
   "outputs": [],
   "source": [
    "push!(c, CNOT, [(\"a\", 1), (\"a\", 3)])"
   ]
  },
  {
   "cell_type": "code",
   "execution_count": 257,
   "id": "1e40f981-1729-4ff3-8e22-6451cbdeabea",
   "metadata": {},
   "outputs": [
    {
     "data": {
      "text/plain": [
       "1: CNOT(1, 3)"
      ]
     },
     "execution_count": 257,
     "metadata": {},
     "output_type": "execute_result"
    }
   ],
   "source": [
    "c"
   ]
  },
  {
   "cell_type": "code",
   "execution_count": 221,
   "id": "0d80f744-cfd0-49cc-bc0d-9723007a41df",
   "metadata": {},
   "outputs": [],
   "source": [
    "push!(c, H[5])"
   ]
  },
  {
   "cell_type": "code",
   "execution_count": 222,
   "id": "2d846f58-c9e9-4b4d-84ea-29ec693adbbd",
   "metadata": {},
   "outputs": [
    {
     "data": {
      "text/plain": [
       "Set{Int64} with 4 elements:\n",
       "  5\n",
       "  2\n",
       "  3\n",
       "  1"
      ]
     },
     "execution_count": 222,
     "metadata": {},
     "output_type": "execute_result"
    }
   ],
   "source": [
    "HiQuER.qubits(c)"
   ]
  },
  {
   "cell_type": "code",
   "execution_count": 223,
   "id": "3ee6598c-eb96-4d1a-b33a-c8fa510be2f2",
   "metadata": {},
   "outputs": [
    {
     "name": "stdout",
     "output_type": "stream",
     "text": [
      "1[4]\n",
      "4\n",
      "2Int64[]\n",
      "6\n",
      "3Int64[]\n",
      "7\n",
      "4Int64[]\n",
      "8\n"
     ]
    }
   ],
   "source": [
    "push!(c, b)"
   ]
  },
  {
   "cell_type": "code",
   "execution_count": 224,
   "id": "30ffb7f3-8f6e-4241-85e9-e9038778cc04",
   "metadata": {},
   "outputs": [
    {
     "data": {
      "text/plain": [
       "2-element Vector{QRegister}:\n",
       " QRegister(\"a\", 3, Dict{Int64, HiQuER.QubitId}(2 => (2), 3 => (3), 1 => (1)))\n",
       " QRegister(\"c\", 4, Dict{Int64, HiQuER.QubitId}(4 => (8), 2 => (6), 3 => (7), 1 => (4)))"
      ]
     },
     "execution_count": 224,
     "metadata": {},
     "output_type": "execute_result"
    }
   ],
   "source": [
    "c.registers"
   ]
  },
  {
   "cell_type": "code",
   "execution_count": 159,
   "id": "a5cadc28-a81b-4de1-a3e2-7785c9daa1fe",
   "metadata": {},
   "outputs": [
    {
     "data": {
      "text/plain": [
       "Set{Int64}()"
      ]
     },
     "execution_count": 159,
     "metadata": {},
     "output_type": "execute_result"
    }
   ],
   "source": [
    "x = HiQuER.qubits(c)"
   ]
  },
  {
   "cell_type": "code",
   "execution_count": 161,
   "id": "91f718a7-ad49-4d95-88fe-dd1949746fc6",
   "metadata": {},
   "outputs": [
    {
     "name": "stdout",
     "output_type": "stream",
     "text": [
      "2"
     ]
    }
   ],
   "source": [
    "if length(x) == 0\n",
    "    print(2)\n",
    "end"
   ]
  },
  {
   "cell_type": "code",
   "execution_count": 138,
   "id": "93493833-154e-4c0e-be51-b4acee386c57",
   "metadata": {},
   "outputs": [
    {
     "data": {
      "text/plain": [
       "Set{Int64} with 4 elements:\n",
       "  4\n",
       "  2\n",
       "  3\n",
       "  1"
      ]
     },
     "execution_count": 138,
     "metadata": {},
     "output_type": "execute_result"
    }
   ],
   "source": [
    "push!(a, 1, 2, 3, 4)"
   ]
  },
  {
   "cell_type": "code",
   "execution_count": 121,
   "id": "705a40e8-97c1-471b-a064-391d7d6e42be",
   "metadata": {},
   "outputs": [
    {
     "data": {
      "text/plain": [
       "Set{DataType} with 3 elements:\n",
       "  OpenQASM.Types.RegDecl\n",
       "  OpenQASM.Types.Include\n",
       "  OpenQASM.Types.Instruction"
      ]
     },
     "execution_count": 121,
     "metadata": {},
     "output_type": "execute_result"
    }
   ],
   "source": [
    "Set([typeof(x) for x in qobj.prog])"
   ]
  },
  {
   "cell_type": "code",
   "execution_count": 78,
   "id": "e51c29b8-d84d-466a-bce5-0afa8b3604d3",
   "metadata": {},
   "outputs": [
    {
     "data": {
      "text/plain": [
       "0.32"
      ]
     },
     "execution_count": 78,
     "metadata": {},
     "output_type": "execute_result"
    }
   ],
   "source": [
    "parse(Float64, \"0.32\")"
   ]
  },
  {
   "cell_type": "code",
   "execution_count": 76,
   "id": "70fd42e1-239d-4d4c-89c2-48c13fe9e361",
   "metadata": {},
   "outputs": [
    {
     "data": {
      "text/plain": [
       "Rx(0.3)"
      ]
     },
     "execution_count": 76,
     "metadata": {},
     "output_type": "execute_result"
    }
   ],
   "source": [
    "Rx(FloatAngle(0.3))"
   ]
  },
  {
   "cell_type": "code",
   "execution_count": 65,
   "id": "d5a63b93-6414-45f6-ade0-63869aae7d82",
   "metadata": {},
   "outputs": [
    {
     "data": {
      "text/plain": [
       "\"floo\""
      ]
     },
     "execution_count": 65,
     "metadata": {},
     "output_type": "execute_result"
    }
   ],
   "source": [
    "v = 3\n",
    "q = @match v begin\n",
    "    1 => \"blib\"\n",
    "    3 => \"floo\"\n",
    "end"
   ]
  },
  {
   "cell_type": "code",
   "execution_count": 140,
   "id": "a04e6c1b-3737-4d2f-b48d-feb7c94a7bd8",
   "metadata": {},
   "outputs": [
    {
     "data": {
      "text/plain": [
       "QRegister(\"a\", 3, Dict{Int64, HiQuER.QubitId}(2 => (0), 3 => (0), 1 => (0)))"
      ]
     },
     "execution_count": 140,
     "metadata": {},
     "output_type": "execute_result"
    }
   ],
   "source": [
    "a = QRegister(\"a\", 3)"
   ]
  },
  {
   "cell_type": "code",
   "execution_count": 148,
   "id": "849efe6a-d6cf-49c2-b613-d84462e3a2b9",
   "metadata": {},
   "outputs": [
    {
     "data": {
      "text/plain": [
       "3-element Vector{Int64}:\n",
       " 0\n",
       " 0\n",
       " 0"
      ]
     },
     "execution_count": 148,
     "metadata": {},
     "output_type": "execute_result"
    }
   ],
   "source": [
    "[idx for x in values(a.id_map) for idx in x]"
   ]
  },
  {
   "cell_type": "code",
   "execution_count": 26,
   "id": "fab56fcd-c050-4706-82e9-86905ef647ef",
   "metadata": {},
   "outputs": [],
   "source": [
    "qobj = load_qasm(\"./qasm/plasma4.qasm\");"
   ]
  },
  {
   "cell_type": "code",
   "execution_count": 58,
   "id": "311a56b5-4949-4b4f-9103-e2ab322a5ae3",
   "metadata": {},
   "outputs": [
    {
     "data": {
      "text/plain": [
       "226-element Vector{Any}:\n",
       " \u001b[94minclude \u001b[39m\"qelib1.inc\";\n",
       " \u001b[94mqreg\u001b[39m \u001b[96mq\u001b[39m[\u001b[32m4\u001b[39m];\n",
       " \u001b[95ms\u001b[39m \u001b[96mq\u001b[39m[\u001b[32m0\u001b[39m];\n",
       " \u001b[95mh\u001b[39m \u001b[96mq\u001b[39m[\u001b[32m2\u001b[39m];\n",
       " \u001b[95mh\u001b[39m \u001b[96mq\u001b[39m[\u001b[32m3\u001b[39m];\n",
       " \u001b[95ms\u001b[39m \u001b[96mq\u001b[39m[\u001b[32m1\u001b[39m];\n",
       " \u001b[95mcx\u001b[39m \u001b[96mq\u001b[39m[\u001b[32m2\u001b[39m], \u001b[96mq\u001b[39m[\u001b[32m1\u001b[39m];\n",
       " \u001b[95mcx\u001b[39m \u001b[96mq\u001b[39m[\u001b[32m3\u001b[39m], \u001b[96mq\u001b[39m[\u001b[32m0\u001b[39m];\n",
       " \u001b[95ms\u001b[39m \u001b[96mq\u001b[39m[\u001b[32m0\u001b[39m];\n",
       " \u001b[95ms\u001b[39m \u001b[96mq\u001b[39m[\u001b[32m2\u001b[39m];\n",
       " \u001b[95ms\u001b[39m \u001b[96mq\u001b[39m[\u001b[32m3\u001b[39m];\n",
       " \u001b[95ms\u001b[39m \u001b[96mq\u001b[39m[\u001b[32m1\u001b[39m];\n",
       " \u001b[95mh\u001b[39m \u001b[96mq\u001b[39m[\u001b[32m0\u001b[39m];\n",
       " ⋮\n",
       " \u001b[95mcx\u001b[39m \u001b[96mq\u001b[39m[\u001b[32m0\u001b[39m], \u001b[96mq\u001b[39m[\u001b[32m1\u001b[39m];\n",
       " \u001b[95mcx\u001b[39m \u001b[96mq\u001b[39m[\u001b[32m1\u001b[39m], \u001b[96mq\u001b[39m[\u001b[32m2\u001b[39m];\n",
       " \u001b[95mrz\u001b[39m(-(\u001b[32m0.008098347207411006\u001b[39m)) \u001b[96mq\u001b[39m[\u001b[32m2\u001b[39m];\n",
       " \u001b[95mcx\u001b[39m \u001b[96mq\u001b[39m[\u001b[32m1\u001b[39m], \u001b[96mq\u001b[39m[\u001b[32m2\u001b[39m];\n",
       " \u001b[95mcx\u001b[39m \u001b[96mq\u001b[39m[\u001b[32m0\u001b[39m], \u001b[96mq\u001b[39m[\u001b[32m1\u001b[39m];\n",
       " \u001b[95mh\u001b[39m \u001b[96mq\u001b[39m[\u001b[32m0\u001b[39m];\n",
       " \u001b[95mh\u001b[39m \u001b[96mq\u001b[39m[\u001b[32m1\u001b[39m];\n",
       " \u001b[95msdg\u001b[39m \u001b[96mq\u001b[39m[\u001b[32m0\u001b[39m];\n",
       " \u001b[95msdg\u001b[39m \u001b[96mq\u001b[39m[\u001b[32m1\u001b[39m];\n",
       " \u001b[95mcx\u001b[39m \u001b[96mq\u001b[39m[\u001b[32m1\u001b[39m], \u001b[96mq\u001b[39m[\u001b[32m0\u001b[39m];\n",
       " \u001b[95msdg\u001b[39m \u001b[96mq\u001b[39m[\u001b[32m0\u001b[39m];\n",
       " \u001b[95mh\u001b[39m \u001b[96mq\u001b[39m[\u001b[32m1\u001b[39m];"
      ]
     },
     "execution_count": 58,
     "metadata": {},
     "output_type": "execute_result"
    }
   ],
   "source": [
    "prog = qobj.prog"
   ]
  },
  {
   "cell_type": "code",
   "execution_count": 126,
   "id": "e7346b1a-d3b6-4a00-9a55-3e0ecd16018d",
   "metadata": {},
   "outputs": [
    {
     "data": {
      "text/plain": [
       "Set{Int64}()"
      ]
     },
     "execution_count": 126,
     "metadata": {},
     "output_type": "execute_result"
    }
   ],
   "source": [
    "HiQuER.qubits(c)"
   ]
  },
  {
   "cell_type": "code",
   "execution_count": 128,
   "id": "9df067ab-a10f-4504-afe9-2c9655a72201",
   "metadata": {},
   "outputs": [
    {
     "data": {
      "text/plain": []
     },
     "execution_count": 128,
     "metadata": {},
     "output_type": "execute_result"
    }
   ],
   "source": [
    "c = Circuit()"
   ]
  },
  {
   "cell_type": "code",
   "execution_count": 129,
   "id": "fbaf9275-93e7-4f58-a826-a5c54674f0ce",
   "metadata": {},
   "outputs": [],
   "source": [
    "push!(c, H[1]*T[3])"
   ]
  },
  {
   "cell_type": "code",
   "execution_count": 135,
   "id": "af73ae54-a3c1-4e5e-8abd-981102e36fa3",
   "metadata": {},
   "outputs": [
    {
     "data": {
      "text/plain": [
       "Set{Int64} with 2 elements:\n",
       "  3\n",
       "  1"
      ]
     },
     "execution_count": 135,
     "metadata": {},
     "output_type": "execute_result"
    }
   ],
   "source": [
    "HiQuER.qubits(c)"
   ]
  },
  {
   "cell_type": "code",
   "execution_count": 133,
   "id": "1c57c981-5f8b-419d-a90b-ac2b4ebcf3d0",
   "metadata": {},
   "outputs": [
    {
     "data": {
      "text/plain": [
       "ValueIterator for a Dict{Int64, Int64} with 2 entries. Values:\n",
       "  3\n",
       "  2"
      ]
     },
     "execution_count": 133,
     "metadata": {},
     "output_type": "execute_result"
    }
   ],
   "source": [
    "values(x)"
   ]
  },
  {
   "cell_type": "code",
   "execution_count": 59,
   "id": "63c3e49e-0e5a-4caa-9f62-1d25cac9c0d0",
   "metadata": {},
   "outputs": [
    {
     "data": {
      "text/plain": [
       "1-element Vector{Any}:\n",
       " \u001b[94mqreg\u001b[39m \u001b[96mq\u001b[39m[\u001b[32m4\u001b[39m];"
      ]
     },
     "execution_count": 59,
     "metadata": {},
     "output_type": "execute_result"
    }
   ],
   "source": [
    "filter(x -> x isa OpenQASM.Types.RegDecl, prog)"
   ]
  },
  {
   "cell_type": "code",
   "execution_count": 84,
   "id": "623a2185-5c02-4597-ad69-c4a7477f9fae",
   "metadata": {},
   "outputs": [
    {
     "data": {
      "text/plain": [
       "OpenQASM.Types.RegDecl"
      ]
     },
     "execution_count": 84,
     "metadata": {},
     "output_type": "execute_result"
    }
   ],
   "source": [
    "typeof(qobj.prog[2])"
   ]
  },
  {
   "cell_type": "code",
   "execution_count": 88,
   "id": "0e691cd4-639e-49a8-b2dc-92000e967ad2",
   "metadata": {},
   "outputs": [
    {
     "data": {
      "text/plain": [
       "RBNF.Token{:int}(3, 8, 44, \"4\", 1)"
      ]
     },
     "execution_count": 88,
     "metadata": {},
     "output_type": "execute_result"
    }
   ],
   "source": [
    "qobj.prog[2].size"
   ]
  },
  {
   "cell_type": "code",
   "execution_count": 85,
   "id": "3ffb3666-0d75-4add-ad6a-012d3b42faba",
   "metadata": {},
   "outputs": [
    {
     "data": {
      "text/plain": [
       "\"q\""
      ]
     },
     "execution_count": 85,
     "metadata": {},
     "output_type": "execute_result"
    }
   ],
   "source": [
    "qobj.prog[2].name.str"
   ]
  },
  {
   "cell_type": "code",
   "execution_count": 52,
   "id": "9d9deea4-6e90-4ca9-b245-f9f2407731fd",
   "metadata": {},
   "outputs": [
    {
     "data": {
      "text/plain": [
       "OpenQASM.Types.Bit"
      ]
     },
     "execution_count": 52,
     "metadata": {},
     "output_type": "execute_result"
    }
   ],
   "source": [
    "typeof(qobj.prog[3].qargs[1])"
   ]
  },
  {
   "cell_type": "code",
   "execution_count": 55,
   "id": "869be7b6-885f-4fde-997c-eb0726555bc2",
   "metadata": {},
   "outputs": [
    {
     "data": {
      "text/plain": [
       "OpenQASM.Types.Instruction"
      ]
     },
     "execution_count": 55,
     "metadata": {},
     "output_type": "execute_result"
    }
   ],
   "source": [
    "typeof(qobj.prog[20])"
   ]
  },
  {
   "cell_type": "code",
   "execution_count": 63,
   "id": "3b109048-f421-44a2-957f-15904eabf0fd",
   "metadata": {},
   "outputs": [
    {
     "data": {
      "text/plain": [
       "\"s\""
      ]
     },
     "execution_count": 63,
     "metadata": {},
     "output_type": "execute_result"
    }
   ],
   "source": [
    "qobj.prog[3].name"
   ]
  },
  {
   "cell_type": "code",
   "execution_count": 83,
   "id": "b8eb179f-b2bb-46f1-93b3-d1a6eec7eb36",
   "metadata": {},
   "outputs": [
    {
     "data": {
      "text/plain": [
       "RBNF.Token{:int}(21, 28, 246, \"3\", 1)"
      ]
     },
     "execution_count": 83,
     "metadata": {},
     "output_type": "execute_result"
    }
   ],
   "source": [
    "qobj.prog[20].qargs[1].address"
   ]
  },
  {
   "cell_type": "code",
   "execution_count": 89,
   "id": "0b3ef190-8b4c-4b7a-8971-3a16a0af90b7",
   "metadata": {},
   "outputs": [
    {
     "data": {
      "text/plain": [
       "QRegister(\"qb\", 2, Dict{Int64, HiQuER.QubitId}(2 => (0), 1 => (0)))"
      ]
     },
     "execution_count": 89,
     "metadata": {},
     "output_type": "execute_result"
    }
   ],
   "source": [
    "a = QRegister(\"qa\", 2)\n",
    "b = QRegister(\"qb\", 2)"
   ]
  },
  {
   "cell_type": "code",
   "execution_count": 90,
   "id": "1363290d-9bb9-4552-93ea-0735997d8f98",
   "metadata": {},
   "outputs": [
    {
     "data": {
      "text/plain": []
     },
     "execution_count": 90,
     "metadata": {},
     "output_type": "execute_result"
    }
   ],
   "source": [
    "c = Circuit(a, b)"
   ]
  },
  {
   "cell_type": "code",
   "execution_count": 115,
   "id": "6dddc271-d3f2-4b53-83bf-4f8bb9d4adbd",
   "metadata": {},
   "outputs": [
    {
     "ename": "LoadError",
     "evalue": "MethodError: no method matching getindex(::ControlledGate, ::HiQuER.QubitId, ::HiQuER.QubitId)\n\u001b[0mClosest candidates are:\n\u001b[0m  getindex(::G, ::HiQuER.QubitId) where G<:HiQuER.AbstractGate at ~/GitHub/HiQuER/src/circuits/gate_types.jl:163\n\u001b[0m  getindex(::G, \u001b[91m::Int64...\u001b[39m) where G<:HiQuER.AbstractGate at ~/GitHub/HiQuER/src/circuits/gate_types.jl:162",
     "output_type": "error",
     "traceback": [
      "MethodError: no method matching getindex(::ControlledGate, ::HiQuER.QubitId, ::HiQuER.QubitId)\n\u001b[0mClosest candidates are:\n\u001b[0m  getindex(::G, ::HiQuER.QubitId) where G<:HiQuER.AbstractGate at ~/GitHub/HiQuER/src/circuits/gate_types.jl:163\n\u001b[0m  getindex(::G, \u001b[91m::Int64...\u001b[39m) where G<:HiQuER.AbstractGate at ~/GitHub/HiQuER/src/circuits/gate_types.jl:162",
      "",
      "Stacktrace:",
      " [1] top-level scope",
      "   @ In[115]:1",
      " [2] eval",
      "   @ ./boot.jl:368 [inlined]",
      " [3] include_string(mapexpr::typeof(REPL.softscope), mod::Module, code::String, filename::String)",
      "   @ Base ./loading.jl:1428"
     ]
    }
   ],
   "source": [
    "CNOT[a[1], b[1]]"
   ]
  },
  {
   "cell_type": "code",
   "execution_count": 114,
   "id": "9bfe6cd2-418a-40a6-bd7e-15a4ec3d9926",
   "metadata": {
    "tags": []
   },
   "outputs": [
    {
     "data": {
      "text/plain": [
       "2-element Vector{Int64}:\n",
       " 1\n",
       " 3"
      ]
     },
     "execution_count": 114,
     "metadata": {},
     "output_type": "execute_result"
    }
   ],
   "source": [
    "collect(flatten(x))"
   ]
  },
  {
   "cell_type": "code",
   "execution_count": 110,
   "id": "7305df2f-e04f-40dc-b288-be28b2e7e4a1",
   "metadata": {},
   "outputs": [
    {
     "data": {
      "text/plain": [
       "2-element Vector{Tuple{Int64}}:\n",
       " (1,)\n",
       " (3,)"
      ]
     },
     "execution_count": 110,
     "metadata": {},
     "output_type": "execute_result"
    }
   ],
   "source": [
    "[u.id for u in x]"
   ]
  },
  {
   "cell_type": "code",
   "execution_count": 103,
   "id": "40ce4a39-3529-4899-b999-70ddfb1bb08a",
   "metadata": {},
   "outputs": [
    {
     "data": {
      "text/plain": [
       "(1, 2) => CNOT"
      ]
     },
     "execution_count": 103,
     "metadata": {},
     "output_type": "execute_result"
    }
   ],
   "source": [
    "x = CNOT[1,2]"
   ]
  },
  {
   "cell_type": "code",
   "execution_count": 102,
   "id": "019cabcd-a878-4f9b-b372-9c26b7afb7a2",
   "metadata": {},
   "outputs": [
    {
     "data": {
      "text/plain": [
       "HiQuER.QubitId"
      ]
     },
     "execution_count": 102,
     "metadata": {},
     "output_type": "execute_result"
    }
   ],
   "source": [
    "typeof(x[1])"
   ]
  },
  {
   "cell_type": "code",
   "execution_count": 93,
   "id": "bb7c36fa-e5c5-49cf-8234-22a84f8c0bc4",
   "metadata": {},
   "outputs": [
    {
     "data": {
      "text/plain": [
       "(1) => H"
      ]
     },
     "execution_count": 93,
     "metadata": {},
     "output_type": "execute_result"
    }
   ],
   "source": [
    "H[1]"
   ]
  },
  {
   "cell_type": "code",
   "execution_count": null,
   "id": "fdff1458-92d0-4ced-83ec-099acade26a7",
   "metadata": {},
   "outputs": [],
   "source": []
  }
 ],
 "metadata": {
  "kernelspec": {
   "display_name": "Julia 1.8.2",
   "language": "julia",
   "name": "julia-1.8"
  },
  "language_info": {
   "file_extension": ".jl",
   "mimetype": "application/julia",
   "name": "julia",
   "version": "1.8.2"
  }
 },
 "nbformat": 4,
 "nbformat_minor": 5
}
