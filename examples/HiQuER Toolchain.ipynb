{
 "cells": [
  {
   "cell_type": "markdown",
   "id": "fb7fcbd9",
   "metadata": {},
   "source": [
    "# HiQuER Toolchain Example"
   ]
  },
  {
   "cell_type": "markdown",
   "id": "51bd3a1f",
   "metadata": {},
   "source": [
    "### Optimize Circuit\n",
    "\n",
    "We run a staq optimization pass to reduce the circuit size. First, some stats:"
   ]
  },
  {
   "cell_type": "code",
   "execution_count": 4,
   "id": "816b7ae9",
   "metadata": {},
   "outputs": [
    {
     "name": "stdout",
     "output_type": "stream",
     "text": [
      "Resources used:\n",
      "  rz(-0.0181802): 2\n",
      "  rz(-0.0128553): 4\n",
      "  rz(-0.0203261): 2\n",
      "  qubits: 8\n",
      "  h: 168\n",
      "  rz(-0.0140267): 2\n",
      "  rz(0.00724338): 4\n",
      "  rz(0.0114528): 2\n",
      "  s: 168\n",
      "  rz(0.00991841): 4\n",
      "  depth: 196\n",
      "  rz(0.0151506): 2\n",
      "  rz(0.0222661): 2\n",
      "  rz(0.0128046): 2\n",
      "  rz(0.00809835): 4\n",
      "  cx: 168\n",
      "  rz(-0.0157445): 4\n",
      "  rz(-0.0114982): 4\n",
      "  rz(-0.0240501): 2\n"
     ]
    }
   ],
   "source": [
    "%%bash\n",
    "\n",
    "cat qasm/plasma.qasm | staq_resource_estimator"
   ]
  },
  {
   "cell_type": "code",
   "execution_count": 6,
   "id": "77523fe6",
   "metadata": {},
   "outputs": [
    {
     "name": "stdout",
     "output_type": "stream",
     "text": [
      "Resources used:\n",
      "  depth: 150\n",
      "  rz(-0.0181802): 2\n",
      "  rz(0.0222661): 2\n",
      "  rz(-0.0257106): 2\n",
      "  qubits: 8\n",
      "  cx: 144\n",
      "  rz(-0.0140267): 2\n",
      "  rz(0.0114528): 2\n",
      "  s: 110\n",
      "  rz(0.0144868): 2\n",
      "  rz(0.0198368): 2\n",
      "  rz(-0.00889949): 2\n",
      "  rz(-0.0229963): 2\n",
      "  h: 118\n",
      "  rz(0.0161967): 2\n",
      "  rz(-0.031489): 2\n",
      "  rz(-0.00752144): 2\n"
     ]
    }
   ],
   "source": [
    "%%bash\n",
    "\n",
    "staq -O2 qasm/plasma.qasm | tee qasm/plasma_opt.qasm | staq_resource_estimator"
   ]
  },
  {
   "cell_type": "markdown",
   "id": "03b00956",
   "metadata": {},
   "source": [
    "### Convert to Clifford+T"
   ]
  },
  {
   "cell_type": "code",
   "execution_count": 10,
   "id": "2fdc7803",
   "metadata": {},
   "outputs": [
    {
     "name": "stdout",
     "output_type": "stream",
     "text": [
      "Resources used:\n",
      "  depth: 3308\n",
      "  x: 1\n",
      "  y: 4\n",
      "  s: 954\n",
      "  t: 1686\n",
      "  cx: 144\n",
      "  h: 1800\n",
      "  z: 5\n",
      "  qubits: 8\n"
     ]
    }
   ],
   "source": [
    "%%bash\n",
    "\n",
    "cat qasm/plasma_opt.qasm | python3 ../util/rotation_synth/rotation_synth.py | \\\n",
    "tee qasm/plasma_CT.qasm | staq_resource_estimator"
   ]
  },
  {
   "cell_type": "markdown",
   "id": "02007454",
   "metadata": {},
   "source": [
    "## Lattice Surgery"
   ]
  },
  {
   "cell_type": "code",
   "execution_count": 13,
   "id": "8ef023ae",
   "metadata": {},
   "outputs": [],
   "source": [
    "%%bash\n",
    "\n",
    "cat qasm/plasma_CT.qasm | staq_lattice_surgery > qasm/plasma_ls.json"
   ]
  },
  {
   "cell_type": "markdown",
   "id": "9e888eb2",
   "metadata": {},
   "source": [
    "## Resource Estimation"
   ]
  },
  {
   "cell_type": "code",
   "execution_count": 18,
   "id": "5462b0ee",
   "metadata": {},
   "outputs": [
    {
     "name": "stdout",
     "output_type": "stream",
     "text": [
      "{\n",
      "    \"logical\": {\n",
      "        \"n_qubits\": 8,\n",
      "        \"T-count\": 1686,\n",
      "        \"Commuting T-layers\": 973\n",
      "    },\n",
      "    \"qecc\": {\n",
      "        \"scheme\": \"fast\",\n",
      "        \"p_g\": 0.001,\n",
      "        \"cycle_time\": 1e-06\n",
      "    },\n",
      "    \"physical\": {\n",
      "        \"physical qubits\": 29150,\n",
      "        \"time (sec)\": 0.018546,\n",
      "        \"time (min)\": 0.0003091,\n",
      "        \"time (hours)\": 5.151666666666667e-06,\n",
      "        \"time (days)\": 2.1465277777777778e-07,\n",
      "        \"time (months)\": 7.155092592592593e-09,\n",
      "        \"time (years)\": 5.962577160493828e-10,\n",
      "        \"distance used\": 11,\n",
      "        \"fraction factories\": 0.79,\n",
      "        \"number of factories\": 5,\n",
      "        \"factory used\": {\n",
      "            \"p_phys\": 0.001,\n",
      "            \"p_out\": 4.5e-08,\n",
      "            \"qubits\": 4620,\n",
      "            \"cycles\": 42.6\n",
      "        }\n",
      "    }\n",
      "}\n"
     ]
    }
   ],
   "source": [
    "%%bash\n",
    "\n",
    "cat qasm/plasma_ls.json | python3 ../util/qre/src/staq_qre.py -c ../util/qre/src/config_fast.json"
   ]
  },
  {
   "cell_type": "code",
   "execution_count": null,
   "id": "195de88b",
   "metadata": {},
   "outputs": [],
   "source": []
  }
 ],
 "metadata": {
  "kernelspec": {
   "display_name": "Python 3 (ipykernel)",
   "language": "python",
   "name": "python3"
  },
  "language_info": {
   "codemirror_mode": {
    "name": "ipython",
    "version": 3
   },
   "file_extension": ".py",
   "mimetype": "text/x-python",
   "name": "python",
   "nbconvert_exporter": "python",
   "pygments_lexer": "ipython3",
   "version": "3.10.6"
  }
 },
 "nbformat": 4,
 "nbformat_minor": 5
}
