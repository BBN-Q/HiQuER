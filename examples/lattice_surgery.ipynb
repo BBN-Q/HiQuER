{
 "cells": [
  {
   "cell_type": "code",
   "execution_count": 6,
   "id": "69e10d48-2b36-40ad-9f43-ab0a36b8937a",
   "metadata": {},
   "outputs": [
    {
     "name": "stderr",
     "output_type": "stream",
     "text": [
      "\u001b[32m\u001b[1m  Activating\u001b[22m\u001b[39m project at `~/GitHub/HiQuER`\n"
     ]
    }
   ],
   "source": [
    "using Pkg\n",
    "Pkg.activate(\"/home/gribeill/GitHub/HiQuER/\")\n",
    "using HiQuER\n",
    "using LRUCache\n",
    "using BenchmarkTools\n",
    "using OpenQASM\n",
    "using StaticArrays\n",
    "using QuantumClifford\n",
    "using Match\n",
    "using StatsBase\n",
    "using JSON"
   ]
  },
  {
   "cell_type": "code",
   "execution_count": 7,
   "id": "1382bfa1-ce51-4551-bfe8-54baf43e3152",
   "metadata": {
    "tags": []
   },
   "outputs": [
    {
     "data": {
      "text/plain": [
       "rand_pauli_block (generic function with 1 method)"
      ]
     },
     "execution_count": 7,
     "metadata": {},
     "output_type": "execute_result"
    }
   ],
   "source": [
    "struct PauliBlock\n",
    "    p :: PauliOperator\n",
    "    ϕ :: Angle\n",
    "    meas :: Bool\n",
    "    hard :: Bool\n",
    "end\n",
    "\n",
    "PauliBlock(po::PauliOperator, ϕ::Angle, meas::Bool) = PauliBlock(po, ϕ, meas, (!meas && (ϕ.value == 1//8 || ϕ.value == -1//8)))\n",
    "\n",
    "PauliBlock(xv::Vector{Bool}, zv::Vector{Bool}, t::Angle) = PauliBlock(PauliOperator(xv,zv), t, false)\n",
    "PauliBlock(xv::Vector{Bool}, zv::Vector{Bool}, t::Angle, meas::Bool) = PauliBlock(PauliOperator(xv,zv), t, false, meas)\n",
    "\n",
    "Base.length(pb::PauliBlock) = pb.p.nqubits\n",
    "\n",
    "function rand_pauli_block(N)\n",
    "    xvec = rand(Bool, N)\n",
    "    zvec = rand(Bool, N)\n",
    "    t = StatsBase.sample([Angle(1//4), Angle(-1//4), Angle(1//8), Angle(-1//8)], aweights([0.32, 0.32, 0.18, 0.18]))\n",
    "    return PauliBlock(xvec, zvec, t)\n",
    "end"
   ]
  },
  {
   "cell_type": "code",
   "execution_count": 8,
   "id": "394ed096-37fe-446d-b8de-34ae2f3dc650",
   "metadata": {},
   "outputs": [
    {
     "data": {
      "text/plain": [
       "commute (generic function with 1 method)"
      ]
     },
     "execution_count": 8,
     "metadata": {},
     "output_type": "execute_result"
    }
   ],
   "source": [
    "function commute(a::PauliBlock, b::PauliBlock)\n",
    "    return comm(a.p, b.p) == 0x0\n",
    "end"
   ]
  },
  {
   "cell_type": "code",
   "execution_count": 9,
   "id": "a567fa3f-d49f-43a0-b022-14d73b2ba91b",
   "metadata": {},
   "outputs": [
    {
     "data": {
      "text/plain": [
       "decompose (generic function with 1 method)"
      ]
     },
     "execution_count": 9,
     "metadata": {},
     "output_type": "execute_result"
    }
   ],
   "source": [
    "function decompose_phase(t::Angle)\n",
    "    return @match t begin\n",
    "        Angle(0)    => []\n",
    "        Angle(3//8) => [Angle(1//4), Angle(1//8)]\n",
    "        Angle(5//8) => [Angle(1//2), Angle(1//8)]\n",
    "        Angle(3//4) => [Angle(1//2), Angle(1//3)]\n",
    "        Angle(7//8) => [Angle(1//2), Angle(1//4), Angle(1//8)]\n",
    "        _           => [t]\n",
    "    end\n",
    "end\n",
    "\n",
    "function decompose(pb::PauliBlock)\n",
    "    tlist = decompose_phase(pb.ϕ)\n",
    "    return [PauliBlock(pb.p, t, pb.meas) for t in tlist]\n",
    "end"
   ]
  },
  {
   "cell_type": "code",
   "execution_count": 10,
   "id": "6c93282c-613f-4bf5-b141-030cbe7c08e5",
   "metadata": {},
   "outputs": [
    {
     "data": {
      "text/plain": [
       "y_free_equivalent (generic function with 1 method)"
      ]
     },
     "execution_count": 10,
     "metadata": {},
     "output_type": "execute_result"
    }
   ],
   "source": [
    "function y_free_equivalent(pb::PauliBlock)\n",
    "    xvec = xbit(pb.p)\n",
    "    zvec = zbit(pb.p)\n",
    "    \n",
    "    y_idx = findall(xvec .& zvec)\n",
    "    \n",
    "    if length(y_idx) == 0\n",
    "        return PauliBlock(PauliOperator(xvec, zvec), pb.ϕ)\n",
    "    end     \n",
    "    \n",
    "    zvec[y_idx] .= false\n",
    "    \n",
    "    left_ops = Vector{PauliBlock}()\n",
    "    right_ops = Vector{PauliBlock}()\n",
    "    \n",
    "    if length(y_idx) % 2 == 0\n",
    "        xx = zeros(Bool, length(xvec))\n",
    "        zz = zeros(Bool, length(zvec))\n",
    "        zz[popfirst!(y_idx)] = true\n",
    "        push!(left_ops, PauliBlock(xx, zz, Angle(1//4)))\n",
    "        push!(right_ops, PauliBlock(xx,zz,Angle(-1//4)))\n",
    "    end\n",
    "    \n",
    "    xx = zeros(Bool, length(xvec))\n",
    "    zz = zeros(Bool, length(zvec))\n",
    "    zz[y_idx] .= true\n",
    "    \n",
    "    push!(left_ops, PauliBlock(xx, zz, Angle(1//4)))\n",
    "    push!(right_ops, PauliBlock(xx,zz,Angle(-1//4)))\n",
    "    \n",
    "    return cat(left_ops, PauliBlock(xvec, zvec, pb.ϕ), right_ops, dims=1)\n",
    "end"
   ]
  },
  {
   "cell_type": "code",
   "execution_count": 11,
   "id": "de0177bf-ded6-40aa-8419-38f799afb812",
   "metadata": {},
   "outputs": [
    {
     "data": {
      "text/plain": [
       "to_dict (generic function with 2 methods)"
      ]
     },
     "execution_count": 11,
     "metadata": {},
     "output_type": "execute_result"
    }
   ],
   "source": [
    "mutable struct PauliCircuit\n",
    "    ops   :: Vector{PauliBlock}\n",
    "    size  :: Int\n",
    "end\n",
    "\n",
    "PauliCircuit() = PauliCircuit(Vector{PauliBlock}(), 0)\n",
    "\n",
    "function Base.push!(pc::PauliCircuit, pb::PauliBlock)\n",
    "    if pc.size == 0\n",
    "        push!(pc.ops, pb)\n",
    "        pc.size = pb.p.nqubits;\n",
    "    else\n",
    "        @assert length(pb) == pc.size \"Wrong number of qubits!\"\n",
    "        push!(pc.ops, pb)\n",
    "    end\n",
    "end\n",
    "\n",
    "function Base.append!(pc::PauliCircuit, pb::Vector{PauliBlock})\n",
    "    for p in pb\n",
    "        push!(pc, p)\n",
    "    end\n",
    "end\n",
    "\n",
    "function Base.length(pc::PauliCircuit)\n",
    "    return length(pc.ops)\n",
    "end\n",
    "\n",
    "function has_measurements(pc::PauliCircuit)\n",
    "    return any([pb.meas for pb in pc.ops])\n",
    "end\n",
    "\n",
    "function get_hard_gates(pc::PauliCircuit)\n",
    "    return findall(x -> x.hard, pc.ops)\n",
    "end\n",
    "\n",
    "function get_easy_gates(pc::PauliCircuit)\n",
    "    return findall(x -> !x.hard, pc.ops)\n",
    "end\n",
    "\n",
    "function to_dict(pb::PauliBlock)\n",
    "    d = Dict()\n",
    "    if pb.meas\n",
    "        d[\"pi*\"] = pb.ϕ > 0 ? \"M\" : \"-M\"\n",
    "    else\n",
    "        d[\"pi*\"] = string(numerator(pb.ϕ.value), \"/\", denominator(pb.ϕ.value))\n",
    "    end\n",
    "    for idx = 0:length(pb.p.nqubits)-1\n",
    "        if pb.p[idx+1] == (true, false)\n",
    "            d[\"q$idx\"] = \"X\"\n",
    "        elseif pb.p[idx+1] == (false, true)\n",
    "            d[\"q$idx\"] = \"Z\"\n",
    "        elseif pb.p[idx+1] == (true, true)\n",
    "            d[\"q$idx\"] = \"Y\"\n",
    "        else\n",
    "            nothing\n",
    "        end\n",
    "    end\n",
    "    return d\n",
    "end\n",
    "        \n",
    "\n",
    "function to_dict(pc::PauliCircuit)\n",
    "    d = Dict()\n",
    "    d[\"layers\"] = Dict()\n",
    "    for (idx, pb) in enumerate(pc.ops)\n",
    "        d[\"layers\"][idx] = to_dict(pb)\n",
    "    end\n",
    "    return d\n",
    "end"
   ]
  },
  {
   "cell_type": "code",
   "execution_count": 13,
   "id": "f0eab699-8087-472c-8efe-ee1eda0b0e15",
   "metadata": {},
   "outputs": [
    {
     "data": {
      "text/plain": [
       "to_y_free (generic function with 1 method)"
      ]
     },
     "execution_count": 13,
     "metadata": {},
     "output_type": "execute_result"
    }
   ],
   "source": [
    "function decompose!(pc::PauliCircuit)\n",
    "    new_ops = Vector{PauliBlock}()\n",
    "    for op in pc.ops\n",
    "        append!(new_ops, decompose(op))\n",
    "    end\n",
    "end\n",
    "\n",
    "function to_y_free(pc::PauliCircuit)\n",
    "    pc = PauliCircuit()\n",
    "    for op in pc.ops\n",
    "        append!(pc, y_free_equivalent(op))\n",
    "    end\n",
    "end     "
   ]
  },
  {
   "cell_type": "code",
   "execution_count": 14,
   "id": "f9519c1a-44ef-467d-ace8-b13c8fc07b09",
   "metadata": {},
   "outputs": [
    {
     "data": {
      "text/plain": [
       "apply_litinski! (generic function with 1 method)"
      ]
     },
     "execution_count": 14,
     "metadata": {},
     "output_type": "execute_result"
    }
   ],
   "source": [
    "function swap_commuting!(pc::PauliCircuit, index::Int)\n",
    "    @inbounds pc.ops[index+1], pc.ops[index] = pc.ops[index], pc.ops[index+1]\n",
    "end\n",
    "\n",
    "function swap_anticommuting!(pc::PauliCircuit, index::Int)\n",
    "    next = index+1\n",
    "    @inbounds p_new = pc.ops[index].p * pc.ops[next].p\n",
    "    if p_new.phase == 0x1\n",
    "        pb_new = PauliBlock(p_new, pc.ops[next].ϕ * -1.0, pc.ops[next].meas)\n",
    "    else #p_new.phase == 0x3\n",
    "        pb_new = PauliBlock(p_new, pc.ops[next].ϕ, pc.ops[next].meas)\n",
    "    #else\n",
    "    #    throw(DomainError(nothing))\n",
    "    end\n",
    "    \n",
    "    @inbounds pc.ops[next] = pc.ops[index]\n",
    "    @inbounds pc.ops[index] = pb_new\n",
    "end\n",
    "\n",
    "function swap_adjacent!(pc::PauliCircuit, index::Int)\n",
    "    next = index+1\n",
    "    if next > length(pc.ops)\n",
    "        error(\"Nothing to commute with!\")\n",
    "    end\n",
    "    \n",
    "    if (pc.ops[index].hard)\n",
    "        error(\"First operand must be π/4 rotation\")\n",
    "    end\n",
    "    \n",
    "    if commute(pc.ops[index], pc.ops[next])\n",
    "        #println(\"commute!\")\n",
    "        swap_commuting!(pc, index)\n",
    "    else\n",
    "        #println(\"anticommute!\")\n",
    "        swap_anticommuting!(pc, index)\n",
    "    end\n",
    "end\n",
    "\n",
    "function swap!(v::Vector{Int}, idx::Int)\n",
    "    @inbounds v[idx], v[idx+1] = v[idx+1], v[idx]\n",
    "end\n",
    "\n",
    "function apply_litinski!(pc::PauliCircuit)\n",
    "    decompose!(pc)\n",
    "    #Move all pi/4 to after all pi/8\n",
    "    iter = 1\n",
    "    \n",
    "    last_hard  = findlast(x->x.hard, pc.ops)\n",
    "    first_easy = findfirst(x->!x.hard, pc.ops)\n",
    "        \n",
    "    while true\n",
    "        \n",
    "        if last_hard < first_easy\n",
    "            break #we're done\n",
    "        end \n",
    "        for idx in (last_hard-1):-1:first_easy\n",
    "            if @inbounds !pc.ops[idx].hard && pc.ops[idx+1].hard \n",
    "                if idx+1 == last_hard\n",
    "                    last_hard -= 1\n",
    "                end\n",
    "                if idx == first_easy\n",
    "                    first_easy += 1\n",
    "                end\n",
    "                swap_adjacent!(pc, idx)\n",
    "            end\n",
    "            if idx < first_easy\n",
    "                break\n",
    "            end\n",
    "        end\n",
    "        \n",
    "    end\n",
    "    #println(iter)\n",
    "end  \n"
   ]
  },
  {
   "cell_type": "code",
   "execution_count": 33,
   "id": "66433f0d-188b-4cec-a61d-4e74b06b98df",
   "metadata": {},
   "outputs": [
    {
     "data": {
      "text/plain": [
       "to_dict (generic function with 3 methods)"
      ]
     },
     "execution_count": 33,
     "metadata": {},
     "output_type": "execute_result"
    }
   ],
   "source": [
    "mutable struct LayeredPauliCircuit\n",
    "    layers :: Vector{Vector{PauliBlock}}\n",
    "    easy_ops :: Vector{PauliBlock}\n",
    "end\n",
    "\n",
    "LayeredPauliCircuit() = LayeredPauliCircuit(Vector{Vector{PauliBlock}}(), Vector{PauliBlock}())\n",
    "\n",
    "function LayeredPauliCircuit(pc::PauliCircuit)\n",
    "    layers = Vector{Vector{PauliBlock}}()\n",
    "    easy_ops = Vector{PauliBlock}()\n",
    "    for op in pc.ops\n",
    "        if op.hard\n",
    "            push!(layers, [op])\n",
    "        else\n",
    "            push!(easy_ops, op)\n",
    "        end\n",
    "    end\n",
    "    return LayeredPauliCircuit(layers, easy_ops)\n",
    "end\n",
    "\n",
    "function reduce_t_depth!(lpc::LayeredPauliCircuit)\n",
    "    changed = true\n",
    "    N = length(lpc.layers)\n",
    "    while changed\n",
    "        changed = false\n",
    "        for idx = 1:N-1\n",
    "            if idx+1 == length(lpc.layers)\n",
    "                break\n",
    "            end\n",
    "            \n",
    "            #items from layer idx+1 that commute with all in layer idx\n",
    "            commuters = [jdx for (jdx, next_op) in enumerate(lpc.layers[idx+1]) if all([commute(next_op, first_op) for first_op in lpc.layers[idx]])]\n",
    "            \n",
    "            #swap the commuters from idx+1 to idx\n",
    "            for cidx in reverse(commuters)\n",
    "                push!(lpc.layers[idx], popat!(lpc.layers[idx+1], cidx))\n",
    "                changed = true\n",
    "            end\n",
    "        end\n",
    "    end\n",
    "    first_empty = findfirst(x->length(x) == 0, lpc.layers)\n",
    "    lpc.layers = lpc.layers[1:first_empty-1]\n",
    "end\n",
    "\n",
    "function to_dict(lpc::LayeredPauliCircuit, n::Int)\n",
    "    t_count = sum([length(ly) for ly in lpc.layers])\n",
    "    t_depth = length(lpc.layers)\n",
    "    d = Dict()\n",
    "    d[\"T count\"] = t_count\n",
    "    d[\"T depth\"] = t_depth\n",
    "    d[\"T layers\"] = Dict()\n",
    "    d[\"n\"] = n\n",
    "    for (idx, lyr) in enumerate(lpc.layers)\n",
    "        d[\"T layers\"][idx-1] = Dict()\n",
    "        for (idx, op) in enumerate(lyr)\n",
    "            d[\"T layers\"][idx-1] = to_dict(op)\n",
    "        end\n",
    "    end\n",
    "    d[\"pi/4 rotations and measurements\"] = Dict()\n",
    "    for (idx, op) in enumerate(lpc.easy_ops)\n",
    "        d[\"pi/4 rotations and measurements\"][idx-1] = to_dict(op)\n",
    "    end\n",
    "    return d\n",
    "end \n"
   ]
  },
  {
   "cell_type": "code",
   "execution_count": 16,
   "id": "53d2623e-77e8-40e5-bb98-fa730c510c14",
   "metadata": {},
   "outputs": [
    {
     "data": {
      "text/plain": [
       "test_litinski (generic function with 1 method)"
      ]
     },
     "execution_count": 16,
     "metadata": {},
     "output_type": "execute_result"
    }
   ],
   "source": [
    "function test_litinski(fn, N, jmax)\n",
    "    pc = PauliCircuit()\n",
    "    for j=1:jmax\n",
    "        pb = rand_pauli_block(N)\n",
    "        push!(pc, rand_pauli_block(N))\n",
    "    end\n",
    "    \n",
    "    fn(pc)\n",
    "end"
   ]
  },
  {
   "cell_type": "code",
   "execution_count": 17,
   "id": "c401bbb4-cb39-46e3-b393-972be84cafbb",
   "metadata": {},
   "outputs": [
    {
     "name": "stdout",
     "output_type": "stream",
     "text": [
      "  0.583042 seconds (7.18 M allocations: 297.034 MiB, 10.59% gc time, 15.35% compilation time)\n"
     ]
    }
   ],
   "source": [
    "@time test_litinski(apply_litinski!, 8, 4500)"
   ]
  },
  {
   "cell_type": "code",
   "execution_count": 18,
   "id": "9d54b90c-6a47-4090-a364-be05f8a0fd0d",
   "metadata": {},
   "outputs": [
    {
     "data": {
      "text/plain": [
       "gate_to_pauli (generic function with 1 method)"
      ]
     },
     "execution_count": 18,
     "metadata": {},
     "output_type": "execute_result"
    }
   ],
   "source": [
    "function gate_to_pauli(gate::GG, idx::Union{Int, Tuple{Int, Int}}, N::Int) where GG<:HiQuER.AbstractGate\n",
    "    pb = Vector{PauliBlock}()\n",
    "    if gate == CNOT\n",
    "        c = idx[1]\n",
    "        t = idx[2]\n",
    "        xv = zeros(Bool, N)\n",
    "        zv = zeros(Bool, N)\n",
    "        zv[c] = true\n",
    "        xv[t] = true\n",
    "        push!(pb, PauliBlock(xv, zv, Angle(1//4)))\n",
    "        xv[t] = false\n",
    "        push!(pb, PauliBlock(xv, zv, Angle(1//4)))\n",
    "        zv[c] = false\n",
    "        xv[t] = true\n",
    "        push!(pb, PauliBlock(xv, zv, Angle(1//4)))\n",
    "        return pb;\n",
    "    end\n",
    "    if gate ==  S \n",
    "        paulis = [(0, 1, Angle(1//4))]\n",
    "    elseif gate == S'\n",
    "        paulis = [(0, 1, Angle(-1//4))]\n",
    "    elseif gate == H\n",
    "        paulis = [(0, 1, Angle(1//4)), (1, 0, Angle(1//4)), (0, 1, Angle(1//4))]\n",
    "    elseif gate == X180\n",
    "        paulis = [(1, 0, Angle(1//2))]\n",
    "    elseif gate == Y180\n",
    "        paulis = [(1, 1, Angle(1//2))]\n",
    "    elseif gate == Z180 \n",
    "        paulis = [(0, 1, Angle(1//2))]\n",
    "    elseif gate == T\n",
    "        paulis = [(0, 1, Angle(1//8))]\n",
    "    else\n",
    "        error(gate)\n",
    "    end\n",
    "    for p in paulis\n",
    "        xv = zeros(Bool, N)\n",
    "        zv = zeros(Bool, N)\n",
    "        xv[idx[1]] = Bool(p[1])\n",
    "        zv[idx[1]] = Bool(p[2])\n",
    "        push!(pb, PauliBlock(xv, zv, p[3]))\n",
    "    end\n",
    "    return pb\n",
    "end      "
   ]
  },
  {
   "cell_type": "code",
   "execution_count": 19,
   "id": "12056cf6-cbe3-4924-b5ea-51ea25e2d6ac",
   "metadata": {
    "tags": []
   },
   "outputs": [
    {
     "data": {
      "text/plain": [
       "circuit_to_pauli (generic function with 1 method)"
      ]
     },
     "execution_count": 19,
     "metadata": {},
     "output_type": "execute_result"
    }
   ],
   "source": [
    "function circuit_to_pauli(c::Circuit, N::Int)\n",
    "    pc = PauliCircuit()\n",
    "    for sl in c.slices\n",
    "        for (id, gate) in sl.gates\n",
    "            #println(id)\n",
    "            if length(id.id) == 1\n",
    "                idx = id.id[1]\n",
    "            else\n",
    "                idx = (id.id[1], id[2])\n",
    "            end\n",
    "            #println(idx, gate)\n",
    "            append!(pc, gate_to_pauli(gate, idx, N))\n",
    "        end\n",
    "    end\n",
    "    return pc\n",
    "end"
   ]
  },
  {
   "cell_type": "code",
   "execution_count": 53,
   "id": "c0a7b780-7d1c-413f-9a6b-3617963a85a3",
   "metadata": {},
   "outputs": [
    {
     "data": {
      "text/plain": [
       "qasm_litinski (generic function with 1 method)"
      ]
     },
     "execution_count": 53,
     "metadata": {},
     "output_type": "execute_result"
    }
   ],
   "source": [
    "function qasm_litinski(fname, N)\n",
    "    infodict = Dict()\n",
    "    circ = load_qasm_circuit(fname)\n",
    "    pc = circuit_to_pauli(circ, N)\n",
    "    infodict[\"1. Circuit as Pauli rotations\"] = to_dict(pc)\n",
    "    apply_litinski!(pc)\n",
    "    infodict[\"2. Circuit after the Litinski Transform\"] = to_dict(pc)\n",
    "    lpc = LayeredPauliCircuit(pc)\n",
    "    reduce_t_depth!(lpc)\n",
    "    infodict[\"3. Circuit after T depth reduction\"] = to_dict(lpc, N)\n",
    "    return infodict\n",
    "end"
   ]
  },
  {
   "cell_type": "code",
   "execution_count": 61,
   "id": "3afb9b60-adc0-4824-86a4-944177173f68",
   "metadata": {},
   "outputs": [],
   "source": [
    "using JSON"
   ]
  },
  {
   "cell_type": "code",
   "execution_count": 66,
   "id": "5f51e7de-403e-4f60-b232-75dfaaffa983",
   "metadata": {},
   "outputs": [
    {
     "data": {
      "text/plain": [
       "8-element Vector{Int64}:\n",
       "    8\n",
       "   16\n",
       "   32\n",
       "   64\n",
       "  128\n",
       "  256\n",
       "  512\n",
       " 1024"
      ]
     },
     "execution_count": 66,
     "metadata": {},
     "output_type": "execute_result"
    }
   ],
   "source": [
    "Nq = [2^n for n=3:10]"
   ]
  },
  {
   "cell_type": "code",
   "execution_count": null,
   "id": "31d4377b-805f-499d-b1fa-1f0a014ee95f",
   "metadata": {},
   "outputs": [
    {
     "name": "stdout",
     "output_type": "stream",
     "text": [
      "Working on 8\n",
      "Took 1.8582797 seconds!\n",
      "---------------\n",
      "Working on 16\n",
      "Took 13.7378253 seconds!\n",
      "---------------\n",
      "Working on 32\n",
      "Took 67.0919832 seconds!\n",
      "---------------\n",
      "Working on 64\n",
      "Took 326.8542037 seconds!\n",
      "---------------\n",
      "Working on 128\n",
      "Took 2122.1728132 seconds!\n",
      "---------------\n",
      "Working on 256\n",
      "Took 13812.3903217 seconds!\n",
      "---------------\n",
      "Working on 512\n"
     ]
    }
   ],
   "source": [
    "Nq = [2^n for n=3:10]\n",
    "times = []\n",
    "\n",
    "for n in Nq\n",
    "    println(\"Working on $n\")\n",
    "    t = @elapsed info = qasm_litinski(\"../resource_estimates/plasma/qasm_BBN/ct/plasma_hamsim_$n.qasm\", n);\n",
    "    open(\"../resource_estimates/plasma/qasm_BBN/lattice_surgery/plasma_hamsim_$n.qasm\", \"w\") do io\n",
    "        JSON.print(io, info, 4)\n",
    "    end\n",
    "    println(\"Took $(t) seconds!\\n---------------\")\n",
    "    push!(times, t)\n",
    "end"
   ]
  },
  {
   "cell_type": "code",
   "execution_count": 65,
   "id": "6e0b3972-1681-4d1e-a7a7-048eefccfc6b",
   "metadata": {},
   "outputs": [],
   "source": [
    "open(\"../resource_estimates/plasma/qasm_BBN/lattice_surgery/plasma_hamsim_8.qasm\", \"w\") do io\n",
    "    JSON.print(io, info, 4)\n",
    "end"
   ]
  },
  {
   "cell_type": "code",
   "execution_count": 43,
   "id": "cfb4df5a-b020-4494-9a7c-ceddfeba7c4f",
   "metadata": {},
   "outputs": [],
   "source": [
    "lpc = LayeredPauliCircuit(pc);"
   ]
  },
  {
   "cell_type": "code",
   "execution_count": 44,
   "id": "d29dc530-0405-4618-b6d9-91eae8a4f5a8",
   "metadata": {},
   "outputs": [
    {
     "data": {
      "text/plain": [
       "990-element Vector{Vector{PauliBlock}}:\n",
       " [PauliBlock(- ___ZX___, π/8, false, true), PauliBlock(- XY___X__, π/8, false, true), PauliBlock(- _______X, π/8, false, true)]\n",
       " [PauliBlock(-i__XY__X_, π/8, false, true), PauliBlock(+iXX___X_X, π/8, false, true)]\n",
       " [PauliBlock(- ___ZX___, π/8, false, true), PauliBlock(- _Z_____X, π/8, false, true)]\n",
       " [PauliBlock(-i__XY__X_, π/8, false, true), PauliBlock(+iXX___X_X, π/8, false, true)]\n",
       " [PauliBlock(- ___ZX___, π/8, false, true), PauliBlock(- XY___X__, π/8, false, true)]\n",
       " [PauliBlock(+ __XXX_X_, π/8, false, true), PauliBlock(+iXX___X_X, π/8, false, true)]\n",
       " [PauliBlock(- ___ZX___, π/8, false, true), PauliBlock(- _Z_____X, π/8, false, true)]\n",
       " [PauliBlock(+ __XXX_X_, π/8, false, true), PauliBlock(+iXX___X_X, π/8, false, true)]\n",
       " [PauliBlock(- ___ZX___, π/8, false, true), PauliBlock(- _Z_____X, π/8, false, true)]\n",
       " [PauliBlock(+ __XXX_X_, π/8, false, true), PauliBlock(- XY___X__, π/8, false, true)]\n",
       " [PauliBlock(-i__XY__X_, π/8, false, true), PauliBlock(- _Z_____X, π/8, false, true)]\n",
       " [PauliBlock(+ __XXX_X_, π/8, false, true), PauliBlock(- XY___X__, π/8, false, true)]\n",
       " [PauliBlock(- ___ZX___, π/8, false, true), PauliBlock(- _Z_____X, π/8, false, true)]\n",
       " ⋮\n",
       " [PauliBlock(-iX_YXXXZ_, π/8, false, true)]\n",
       " [PauliBlock(+ ZZ_ZYXZ_, π/8, false, true)]\n",
       " [PauliBlock(- YZYYZ___, π/8, false, true)]\n",
       " [PauliBlock(-iX_YXXXZ_, π/8, false, true)]\n",
       " [PauliBlock(- YZYYZ___, π/8, false, true)]\n",
       " [PauliBlock(-iX_YXXXZ_, π/8, false, true)]\n",
       " [PauliBlock(- YZYYZ___, π/8, false, true)]\n",
       " [PauliBlock(+ ZZ_ZYXZ_, π/8, false, true)]\n",
       " [PauliBlock(-iX_YXXXZ_, π/8, false, true)]\n",
       " [PauliBlock(- YZYYZ___, π/8, false, true)]\n",
       " [PauliBlock(-iX_YXXXZ_, π/8, false, true)]\n",
       " [PauliBlock(- YZYYZ___, π/8, false, true)]"
      ]
     },
     "execution_count": 44,
     "metadata": {},
     "output_type": "execute_result"
    }
   ],
   "source": [
    "reduce_t_depth!(lpc)"
   ]
  },
  {
   "cell_type": "code",
   "execution_count": 50,
   "id": "45b6b550-6e78-4b5b-8623-bcd123ca7853",
   "metadata": {},
   "outputs": [
    {
     "name": "stdout",
     "output_type": "stream",
     "text": [
      "  0.009601 seconds (156.21 k allocations: 9.035 MiB)\n"
     ]
    },
    {
     "data": {
      "text/plain": [
       "Dict{Any, Any} with 5 entries:\n",
       "  \"pi/4 rotations and measurements\" => Dict{Any, Any}(4986=>Dict{Any, Any}(\"pi*…\n",
       "  \"T count\"                         => 1707\n",
       "  \"T layers\"                        => Dict{Any, Any}(719=>Dict{Any, Any}(), 69…\n",
       "  \"T depth\"                         => 990\n",
       "  \"n\"                               => 8"
      ]
     },
     "execution_count": 50,
     "metadata": {},
     "output_type": "execute_result"
    }
   ],
   "source": [
    "@time to_dict(lpc, 8)"
   ]
  },
  {
   "cell_type": "code",
   "execution_count": null,
   "id": "eb17c92e-41c0-477f-80ce-520e4b91a5ed",
   "metadata": {},
   "outputs": [],
   "source": []
  }
 ],
 "metadata": {
  "kernelspec": {
   "display_name": "Julia 1.8.2",
   "language": "julia",
   "name": "julia-1.8"
  },
  "language_info": {
   "file_extension": ".jl",
   "mimetype": "application/julia",
   "name": "julia",
   "version": "1.8.2"
  }
 },
 "nbformat": 4,
 "nbformat_minor": 5
}
